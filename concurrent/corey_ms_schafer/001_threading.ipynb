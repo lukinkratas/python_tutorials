{
 "cells": [
  {
   "cell_type": "markdown",
   "metadata": {},
   "source": [
    "# Threading  \n",
    "for EO bound tasks  \n",
    "https://youtu.be/IEEhzQoKtQU"
   ]
  },
  {
   "cell_type": "code",
   "execution_count": 1,
   "metadata": {},
   "outputs": [],
   "source": [
    "import time\n",
    "import concurrent.futures"
   ]
  },
  {
   "cell_type": "code",
   "execution_count": 2,
   "metadata": {},
   "outputs": [],
   "source": [
    "def do_something(secs):\n",
    "    print(f'Sleeping {secs} sec...')\n",
    "    time.sleep(secs)\n",
    "    return(f'Done sleeping {secs}...')"
   ]
  },
  {
   "cell_type": "code",
   "execution_count": 3,
   "metadata": {},
   "outputs": [
    {
     "name": "stdout",
     "output_type": "stream",
     "text": [
      "Sleeping 2 sec...\n",
      "Sleeping 2 sec...\n",
      "Sleeping 2 sec...\n",
      "Finished in 6.0 sec(s).\n"
     ]
    }
   ],
   "source": [
    "start = time.perf_counter()\n",
    "\n",
    "for _ in range(3):\n",
    "    do_something(2)\n",
    "    \n",
    "finish = time.perf_counter()\n",
    "print(f'Finished in {round(finish-start, 2)} sec(s).')\n",
    "# no performance optimization:"
   ]
  },
  {
   "cell_type": "code",
   "execution_count": 4,
   "metadata": {},
   "outputs": [
    {
     "name": "stdout",
     "output_type": "stream",
     "text": [
      "Sleeping 2 sec...Sleeping 2 sec...\n",
      "\n",
      "Sleeping 2 sec...\n",
      "Done sleeping 2...\n",
      "Done sleeping 2...\n",
      "Done sleeping 2...\n",
      "Finished in 2.01 sec(s).\n"
     ]
    }
   ],
   "source": [
    "start = time.perf_counter()\n",
    "\n",
    "with concurrent.futures.ThreadPoolExecutor() as executor:\n",
    "    # give the method one variable:\n",
    "    results=[executor.submit(do_something, 2) for _ in range(3)]\n",
    "    \n",
    "    for f in concurrent.futures.as_completed(results):\n",
    "        print(f.result())\n",
    "    \n",
    "finish = time.perf_counter()\n",
    "print(f'Finished in {round(finish-start, 2)} sec(s).')"
   ]
  },
  {
   "cell_type": "code",
   "execution_count": 5,
   "metadata": {},
   "outputs": [
    {
     "name": "stdout",
     "output_type": "stream",
     "text": [
      "Sleeping 3 sec...\n",
      "Sleeping 2 sec...\n",
      "Sleeping 1 sec...\n",
      "Done sleeping 1...\n",
      "Done sleeping 2...\n",
      "Done sleeping 3...\n",
      "Finished in 3.0 sec(s).\n"
     ]
    }
   ],
   "source": [
    "# \n",
    "start = time.perf_counter()\n",
    "\n",
    "secss = [3, 2, 1]\n",
    "with concurrent.futures.ThreadPoolExecutor() as executor:\n",
    "    # give the method list:\n",
    "    results = [executor.submit(do_something, secs) for secs in secss]\n",
    "    \n",
    "    for f in concurrent.futures.as_completed(results):\n",
    "        print(f.result())\n",
    "    \n",
    "finish = time.perf_counter()\n",
    "print(f'Finished in {round(finish-start, 2)} sec(s).')\n",
    "# the order is form the fastest to the slowest:"
   ]
  },
  {
   "cell_type": "code",
   "execution_count": 6,
   "metadata": {},
   "outputs": [
    {
     "name": "stdout",
     "output_type": "stream",
     "text": [
      "Sleeping 3 sec...\n",
      "Sleeping 2 sec...\n",
      "Sleeping 1 sec...\n",
      "Done sleeping 3...\n",
      "Done sleeping 2...\n",
      "Done sleeping 1...\n",
      "Finished in 3.01 sec(s).\n"
     ]
    }
   ],
   "source": [
    "start = time.perf_counter()\n",
    "\n",
    "secss = [3, 2, 1]\n",
    "with concurrent.futures.ThreadPoolExecutor() as executor:\n",
    "    # give the method list:\n",
    "    results = executor.map(do_something, secss)\n",
    "    \n",
    "    for result in results:\n",
    "        print(result)\n",
    "    \n",
    "finish = time.perf_counter()\n",
    "print(f'Finished in {round(finish-start, 2)} sec(s).')\n",
    "# executor.map keeps the order (wait for all the threads to compelte before return:"
   ]
  }
 ],
 "metadata": {
  "kernelspec": {
   "display_name": "Python 3",
   "language": "python",
   "name": "python3"
  },
  "language_info": {
   "codemirror_mode": {
    "name": "ipython",
    "version": 3
   },
   "file_extension": ".py",
   "mimetype": "text/x-python",
   "name": "python",
   "nbconvert_exporter": "python",
   "pygments_lexer": "ipython3",
   "version": "3.7.4"
  }
 },
 "nbformat": 4,
 "nbformat_minor": 2
}
