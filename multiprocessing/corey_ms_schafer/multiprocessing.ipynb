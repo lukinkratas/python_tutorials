{
 "cells": [
  {
   "cell_type": "markdown",
   "metadata": {},
   "source": [
    "# Multiprocessing  \n",
    "for CPU bound tasks  \n",
    "https://youtu.be/fKl2JW_qrso"
   ]
  },
  {
   "cell_type": "code",
   "execution_count": 1,
   "metadata": {},
   "outputs": [],
   "source": [
    "import time\n",
    "import multiprocessing"
   ]
  },
  {
   "cell_type": "code",
   "execution_count": 2,
   "metadata": {},
   "outputs": [],
   "source": [
    "def do_something(secs):\n",
    "    print(f'Sleeping {secs} sec...')\n",
    "    time.sleep(secs)\n",
    "    print('Done sleeping...')"
   ]
  },
  {
   "cell_type": "code",
   "execution_count": 3,
   "metadata": {},
   "outputs": [
    {
     "name": "stdout",
     "output_type": "stream",
     "text": [
      "Sleeping 2 sec...\n",
      "Done sleeping...\n",
      "Sleeping 2 sec...\n",
      "Done sleeping...\n",
      "Sleeping 2 sec...\n",
      "Done sleeping...\n",
      "Sleeping 2 sec...\n",
      "Done sleeping...\n",
      "Sleeping 2 sec...\n",
      "Done sleeping...\n",
      "Finished in 10.02 sec(s).\n"
     ]
    }
   ],
   "source": [
    "start = time.perf_counter()\n",
    "\n",
    "for _ in range(5):\n",
    "    do_something(2)\n",
    "    \n",
    "finish = time.perf_counter()\n",
    "print(f'Finished in {round(finish-start, 2)} sec(s).')"
   ]
  },
  {
   "cell_type": "code",
   "execution_count": 4,
   "metadata": {},
   "outputs": [
    {
     "name": "stdout",
     "output_type": "stream",
     "text": [
      "Finished in 0.02 sec(s).\n"
     ]
    }
   ],
   "source": [
    "start = time.perf_counter()\n",
    "\n",
    "processes = []\n",
    "\n",
    "for _ in range(5):\n",
    "    p = multiprocessing.Process(target=do_something, args=[2])\n",
    "    p.start()\n",
    "    processes.append(p)\n",
    "    \n",
    "finish = time.perf_counter()\n",
    "print(f'Finished in {round(finish-start, 2)} sec(s).')\n",
    "# does not wait until it returns the finished time."
   ]
  },
  {
   "cell_type": "code",
   "execution_count": 5,
   "metadata": {},
   "outputs": [
    {
     "name": "stdout",
     "output_type": "stream",
     "text": [
      "Finished in 0.14 sec(s).\n"
     ]
    }
   ],
   "source": [
    "start = time.perf_counter()\n",
    "\n",
    "processes = []\n",
    "\n",
    "for _ in range(5):\n",
    "    p = multiprocessing.Process(target=do_something, args=[2])\n",
    "    p.start()\n",
    "    processes.append(p)\n",
    "    \n",
    "for p in processes:\n",
    "    p.join()\n",
    "    \n",
    "finish = time.perf_counter()\n",
    "print(f'Finished in {round(finish-start, 2)} sec(s).')\n",
    "# waits until it returns the finished time."
   ]
  }
 ],
 "metadata": {
  "kernelspec": {
   "display_name": "Python 3",
   "language": "python",
   "name": "python3"
  },
  "language_info": {
   "codemirror_mode": {
    "name": "ipython",
    "version": 3
   },
   "file_extension": ".py",
   "mimetype": "text/x-python",
   "name": "python",
   "nbconvert_exporter": "python",
   "pygments_lexer": "ipython3",
   "version": "3.7.4"
  }
 },
 "nbformat": 4,
 "nbformat_minor": 2
}
