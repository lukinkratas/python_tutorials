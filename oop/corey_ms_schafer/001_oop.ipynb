{
 "cells": [
  {
   "cell_type": "markdown",
   "metadata": {},
   "source": [
    "# Basics\n",
    "https://www.youtube.com/watch?v=ZDa-Z5JzLYM&list=PL-osiE80TeTsqhIuOqKhwlXsIBIdSeYtc&index=1  \n",
    "https://www.youtube.com/watch?v=BJ-VvGyQxho&list=PL-osiE80TeTsqhIuOqKhwlXsIBIdSeYtc&index=2"
   ]
  },
  {
   "cell_type": "code",
   "execution_count": 1,
   "metadata": {},
   "outputs": [],
   "source": [
    "class Name(object):\n",
    "    \n",
    "    def __init__(self, full_name):\n",
    "        self.full = full_name\n",
    "        self.first, self.last = full_name.split()"
   ]
  },
  {
   "cell_type": "code",
   "execution_count": 2,
   "metadata": {},
   "outputs": [],
   "source": [
    "class Human(object):\n",
    "    \n",
    "    year_weight_raise = 1.05\n",
    "    num = 0\n",
    "    \n",
    "    def __init__(self, full_name, age, weight):\n",
    "        self.name = Name(full_name) #self = instance\n",
    "        self.age = age\n",
    "        self.weight = weight\n",
    "        self.email = f'{self.name.first}.{self.name.last}@email.com'.lower()\n",
    "        Human.num += 1\n",
    "        \n",
    "    def get_older(self):\n",
    "        self.age += 1\n",
    "        self.weight *= self.year_weight_raise\n"
   ]
  },
  {
   "cell_type": "code",
   "execution_count": 3,
   "metadata": {},
   "outputs": [
    {
     "name": "stdout",
     "output_type": "stream",
     "text": [
      "{'__module__': '__main__', 'year_weight_raise': 1.05, 'num': 0, '__init__': <function Human.__init__ at 0x0000021E34E34BF8>, 'get_older': <function Human.get_older at 0x0000021E34E34730>, '__dict__': <attribute '__dict__' of 'Human' objects>, '__weakref__': <attribute '__weakref__' of 'Human' objects>, '__doc__': None}\n",
      "['__class__', '__delattr__', '__dict__', '__dir__', '__doc__', '__eq__', '__format__', '__ge__', '__getattribute__', '__gt__', '__hash__', '__init__', '__init_subclass__', '__le__', '__lt__', '__module__', '__ne__', '__new__', '__reduce__', '__reduce_ex__', '__repr__', '__setattr__', '__sizeof__', '__str__', '__subclasshook__', '__weakref__', 'get_older', 'num', 'year_weight_raise']\n"
     ]
    }
   ],
   "source": [
    "# print all methods and attributes\n",
    "print(Human.__dict__)\n",
    "print(dir(Human))"
   ]
  },
  {
   "cell_type": "code",
   "execution_count": 4,
   "metadata": {},
   "outputs": [
    {
     "name": "stdout",
     "output_type": "stream",
     "text": [
      "0\n"
     ]
    }
   ],
   "source": [
    "print(Human.num)"
   ]
  },
  {
   "cell_type": "code",
   "execution_count": 5,
   "metadata": {},
   "outputs": [
    {
     "name": "stdout",
     "output_type": "stream",
     "text": [
      "Lukin\n",
      "Kratas\n",
      "lukin.kratas@email.com\n",
      "30\n",
      "80\n"
     ]
    }
   ],
   "source": [
    "lk = Human('Lukin Kratas', 30, 80)\n",
    "print(lk.name.first)\n",
    "print(lk.name.last)\n",
    "print(lk.email)\n",
    "print(lk.age)\n",
    "print(lk.weight)"
   ]
  },
  {
   "cell_type": "code",
   "execution_count": 6,
   "metadata": {
    "scrolled": true
   },
   "outputs": [
    {
     "name": "stdout",
     "output_type": "stream",
     "text": [
      "{'name': <__main__.Name object at 0x0000021E34E58908>, 'age': 30, 'weight': 80, 'email': 'lukin.kratas@email.com'}\n"
     ]
    }
   ],
   "source": [
    "# print all methods and attributes\n",
    "print(lk.__dict__)"
   ]
  },
  {
   "cell_type": "code",
   "execution_count": 7,
   "metadata": {},
   "outputs": [
    {
     "name": "stdout",
     "output_type": "stream",
     "text": [
      "2\n"
     ]
    }
   ],
   "source": [
    "nc = Human('Nairobi Clark', 20, 60)\n",
    "print(Human.num)"
   ]
  },
  {
   "cell_type": "code",
   "execution_count": 8,
   "metadata": {},
   "outputs": [
    {
     "name": "stdout",
     "output_type": "stream",
     "text": [
      "31\n",
      "84.0\n"
     ]
    }
   ],
   "source": [
    "lk.get_older()\n",
    "print(lk.age)\n",
    "print(lk.weight)"
   ]
  },
  {
   "cell_type": "code",
   "execution_count": 9,
   "metadata": {},
   "outputs": [
    {
     "name": "stdout",
     "output_type": "stream",
     "text": [
      "1.05\n",
      "1.05\n",
      "1.05\n"
     ]
    }
   ],
   "source": [
    "print(Human.year_weight_raise)\n",
    "print(lk.year_weight_raise)\n",
    "print(nc.year_weight_raise)"
   ]
  },
  {
   "cell_type": "code",
   "execution_count": 10,
   "metadata": {},
   "outputs": [
    {
     "name": "stdout",
     "output_type": "stream",
     "text": [
      "1.1\n",
      "1.1\n",
      "1.1\n"
     ]
    }
   ],
   "source": [
    "# all the instances of class Human get weight raise 10%\n",
    "Human.year_weight_raise = 1.1\n",
    "\n",
    "print(Human.year_weight_raise)\n",
    "print(lk.year_weight_raise)\n",
    "print(nc.year_weight_raise)"
   ]
  },
  {
   "cell_type": "code",
   "execution_count": 11,
   "metadata": {},
   "outputs": [
    {
     "name": "stdout",
     "output_type": "stream",
     "text": [
      "1.1\n",
      "1.15\n",
      "1.1\n"
     ]
    }
   ],
   "source": [
    "# only lk get weight raise by 15%\n",
    "lk.year_weight_raise = 1.15\n",
    "\n",
    "print(Human.year_weight_raise)\n",
    "print(lk.year_weight_raise)\n",
    "print(nc.year_weight_raise)"
   ]
  },
  {
   "cell_type": "code",
   "execution_count": 12,
   "metadata": {},
   "outputs": [
    {
     "name": "stdout",
     "output_type": "stream",
     "text": [
      "1.2\n",
      "1.15\n",
      "1.2\n"
     ]
    }
   ],
   "source": [
    "# all the instances of class Human get weight raise 20%\n",
    "Human.year_weight_raise = 1.2\n",
    "\n",
    "print(Human.year_weight_raise)\n",
    "print(lk.year_weight_raise)\n",
    "print(nc.year_weight_raise)"
   ]
  },
  {
   "cell_type": "code",
   "execution_count": 13,
   "metadata": {},
   "outputs": [
    {
     "name": "stdout",
     "output_type": "stream",
     "text": [
      "1.2\n",
      "1.15\n",
      "1.25\n"
     ]
    }
   ],
   "source": [
    "# only lk get weight raise by 25%\n",
    "nc.year_weight_raise = 1.25\n",
    "\n",
    "print(Human.year_weight_raise)\n",
    "print(lk.year_weight_raise)\n",
    "print(nc.year_weight_raise)"
   ]
  }
 ],
 "metadata": {
  "kernelspec": {
   "display_name": "Python 3",
   "language": "python",
   "name": "python3"
  },
  "language_info": {
   "codemirror_mode": {
    "name": "ipython",
    "version": 3
   },
   "file_extension": ".py",
   "mimetype": "text/x-python",
   "name": "python",
   "nbconvert_exporter": "python",
   "pygments_lexer": "ipython3",
   "version": "3.6.5"
  }
 },
 "nbformat": 4,
 "nbformat_minor": 2
}
