{
 "cells": [
  {
   "cell_type": "markdown",
   "metadata": {},
   "source": [
    "# Class and Static methods  \n",
    "https://www.youtube.com/watch?v=RSl87lqOXDE&list=PL-osiE80TeTsqhIuOqKhwlXsIBIdSeYtc&index=3  "
   ]
  },
  {
   "cell_type": "code",
   "execution_count": 1,
   "metadata": {},
   "outputs": [],
   "source": [
    "class Name(object):\n",
    "    \n",
    "    def __init__(self, full_name):\n",
    "        self.full = full_name\n",
    "        self.first, self.last = full_name.split()"
   ]
  },
  {
   "cell_type": "code",
   "execution_count": 2,
   "metadata": {},
   "outputs": [],
   "source": [
    "class Human(object):\n",
    "    \n",
    "    year_weight_raise = 1.05\n",
    "    \n",
    "    # no need to use decorators, method are used on instances by default\n",
    "    def __init__(self, full_name, age, weight):\n",
    "        self.name = Name(full_name) #self = instance\n",
    "        self.age = age\n",
    "        self.weight = weight\n",
    "        self.email = f'{self.name.first}.{self.name.last}@email.com'.lower()\n",
    "        \n",
    "    def get_older(self):\n",
    "        self.age += 1\n",
    "        self.weight *= self.year_weight_raise\n",
    "                \n",
    "    @classmethod #method for the class\n",
    "    def set_year_weight_raise(cls, value):\n",
    "        cls.year_weight_raise = value\n",
    "        \n",
    "    @classmethod\n",
    "    def from_string(cls, string):\n",
    "        full_name, age, weight = string.split(',')\n",
    "        return cls(full_name, age, weight)"
   ]
  },
  {
   "cell_type": "code",
   "execution_count": 3,
   "metadata": {},
   "outputs": [],
   "source": [
    "class Calc(object):\n",
    "    \n",
    "    @staticmethod #general methods not for class, neither for instances of a class\n",
    "    def add(a, b):\n",
    "        return a+b\n",
    "\n",
    "    @staticmethod\n",
    "    def sub(a, b):\n",
    "        return a-b\n",
    "\n",
    "    @staticmethod\n",
    "    def mul(a, b):\n",
    "        return a*b\n",
    "\n",
    "    @staticmethod\n",
    "    def div(a, b):\n",
    "        return a/b"
   ]
  },
  {
   "cell_type": "code",
   "execution_count": 4,
   "metadata": {},
   "outputs": [
    {
     "data": {
      "text/plain": [
       "17"
      ]
     },
     "execution_count": 4,
     "metadata": {},
     "output_type": "execute_result"
    }
   ],
   "source": [
    "# static method\n",
    "res = Calc.add(8,9)\n",
    "res"
   ]
  },
  {
   "cell_type": "code",
   "execution_count": 5,
   "metadata": {},
   "outputs": [
    {
     "name": "stdout",
     "output_type": "stream",
     "text": [
      "Lukin\n",
      "Kratas\n",
      "Lukin Kratas\n",
      "lukin.kratas@email.com\n",
      "30\n",
      "80\n"
     ]
    }
   ],
   "source": [
    "lk = Human('Lukin Kratas', 30, 80)\n",
    "print(lk.name.first)\n",
    "print(lk.name.last)\n",
    "print(lk.name.full)\n",
    "print(lk.email)\n",
    "print(lk.age)\n",
    "print(lk.weight)"
   ]
  },
  {
   "cell_type": "code",
   "execution_count": 6,
   "metadata": {},
   "outputs": [
    {
     "name": "stdout",
     "output_type": "stream",
     "text": [
      "1.2\n",
      "1.2\n"
     ]
    }
   ],
   "source": [
    "# class method\n",
    "Human.set_year_weight_raise(1.2)\n",
    "\n",
    "print(Human.year_weight_raise)\n",
    "print(lk.year_weight_raise)"
   ]
  },
  {
   "cell_type": "code",
   "execution_count": 7,
   "metadata": {},
   "outputs": [
    {
     "name": "stdout",
     "output_type": "stream",
     "text": [
      "1.25\n",
      "1.25\n"
     ]
    }
   ],
   "source": [
    "lk.set_year_weight_raise(1.25)\n",
    "\n",
    "print(Human.year_weight_raise)\n",
    "print(lk.year_weight_raise)"
   ]
  },
  {
   "cell_type": "code",
   "execution_count": 8,
   "metadata": {},
   "outputs": [
    {
     "name": "stdout",
     "output_type": "stream",
     "text": [
      "Berlin\n",
      "Bellamy\n",
      "Berlin Bellamy\n",
      "berlin.bellamy@email.com\n",
      "99\n",
      "999\n"
     ]
    }
   ],
   "source": [
    "# class method\n",
    "bb_csv_props = 'Berlin Bellamy,99,999'\n",
    "bb = Human.from_string(bb_csv_props)\n",
    "\n",
    "print(bb.name.first)\n",
    "print(bb.name.last)\n",
    "print(bb.name.full)\n",
    "print(bb.email)\n",
    "print(bb.age)\n",
    "print(bb.weight)"
   ]
  }
 ],
 "metadata": {
  "kernelspec": {
   "display_name": "Python 3",
   "language": "python",
   "name": "python3"
  },
  "language_info": {
   "codemirror_mode": {
    "name": "ipython",
    "version": 3
   },
   "file_extension": ".py",
   "mimetype": "text/x-python",
   "name": "python",
   "nbconvert_exporter": "python",
   "pygments_lexer": "ipython3",
   "version": "3.6.5"
  }
 },
 "nbformat": 4,
 "nbformat_minor": 2
}
