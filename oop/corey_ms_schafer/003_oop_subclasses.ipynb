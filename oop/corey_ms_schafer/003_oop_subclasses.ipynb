{
 "cells": [
  {
   "cell_type": "markdown",
   "metadata": {},
   "source": [
    "# Subclasses\n",
    "https://www.youtube.com/watch?v=RSl87lqOXDE&list=PL-osiE80TeTsqhIuOqKhwlXsIBIdSeYtc&index=4  "
   ]
  },
  {
   "cell_type": "code",
   "execution_count": 1,
   "metadata": {},
   "outputs": [],
   "source": [
    "class Name(object):\n",
    "    \n",
    "    def __init__(self, full_name):\n",
    "        self.full = full_name\n",
    "        self.first, self.last = full_name.split()"
   ]
  },
  {
   "cell_type": "code",
   "execution_count": 2,
   "metadata": {},
   "outputs": [],
   "source": [
    "class Human(object):\n",
    "    \n",
    "    def __init__(self, full_name):\n",
    "        self.name = Name(full_name) #self = instance\n",
    "        self.email = f'{self.name.first}.{self.name.last}@email.com'.lower()\n"
   ]
  },
  {
   "cell_type": "code",
   "execution_count": 3,
   "metadata": {},
   "outputs": [],
   "source": [
    "class Adult(Human):\n",
    "    \n",
    "    def __init__(self, full_name, job):\n",
    "        super().__init__(full_name)\n",
    "        self.job = job"
   ]
  },
  {
   "cell_type": "code",
   "execution_count": 4,
   "metadata": {
    "scrolled": true
   },
   "outputs": [
    {
     "name": "stdout",
     "output_type": "stream",
     "text": [
      "Help on class Adult in module __main__:\n",
      "\n",
      "class Adult(Human)\n",
      " |  Method resolution order:\n",
      " |      Adult\n",
      " |      Human\n",
      " |      builtins.object\n",
      " |  \n",
      " |  Methods defined here:\n",
      " |  \n",
      " |  __init__(self, full_name, job)\n",
      " |      Initialize self.  See help(type(self)) for accurate signature.\n",
      " |  \n",
      " |  ----------------------------------------------------------------------\n",
      " |  Data descriptors inherited from Human:\n",
      " |  \n",
      " |  __dict__\n",
      " |      dictionary for instance variables (if defined)\n",
      " |  \n",
      " |  __weakref__\n",
      " |      list of weak references to the object (if defined)\n",
      "\n",
      "None\n"
     ]
    }
   ],
   "source": [
    "print(help(Adult))"
   ]
  },
  {
   "cell_type": "code",
   "execution_count": 5,
   "metadata": {},
   "outputs": [
    {
     "name": "stdout",
     "output_type": "stream",
     "text": [
      "True\n"
     ]
    }
   ],
   "source": [
    "print(issubclass(Adult, Human))"
   ]
  },
  {
   "cell_type": "code",
   "execution_count": 6,
   "metadata": {},
   "outputs": [],
   "source": [
    "class Child(Human):\n",
    "  \n",
    "    def __init__(self, full_name, parents=None):\n",
    "        super().__init__(full_name)\n",
    "        if parents:\n",
    "            self.parents = parents\n",
    "        else:\n",
    "            self.parents = []\n",
    "            \n",
    "    def add_parent(self, adult):\n",
    "        if not adult in self.parents:\n",
    "            self.parents.append(adult)\n",
    "            \n",
    "    def remove_parent(self, adult):\n",
    "        if not adult in self.parents:\n",
    "            self.parents.remove(adult)\n",
    "            \n",
    "    def print_parents(self):\n",
    "        for parent in self.parents:\n",
    "            print(f'{parent.name.full}')"
   ]
  },
  {
   "cell_type": "code",
   "execution_count": 7,
   "metadata": {},
   "outputs": [
    {
     "name": "stdout",
     "output_type": "stream",
     "text": [
      "Lukin\n",
      "Kratas\n",
      "Lukin Kratas\n",
      "lukin.kratas@email.com\n",
      "eng\n"
     ]
    }
   ],
   "source": [
    "lk = Adult('Lukin Kratas', 'eng')\n",
    "print(lk.name.first)\n",
    "print(lk.name.last)\n",
    "print(lk.name.full)\n",
    "print(lk.email)\n",
    "print(lk.job)"
   ]
  },
  {
   "cell_type": "code",
   "execution_count": 8,
   "metadata": {},
   "outputs": [
    {
     "name": "stdout",
     "output_type": "stream",
     "text": [
      "True\n",
      "True\n",
      "False\n"
     ]
    }
   ],
   "source": [
    "print(isinstance(lk, Human))\n",
    "print(isinstance(lk, Adult))\n",
    "print(isinstance(lk, Child))"
   ]
  },
  {
   "cell_type": "code",
   "execution_count": 9,
   "metadata": {},
   "outputs": [],
   "source": [
    "nc = Adult('Nairobi Clark', 'waitress')"
   ]
  },
  {
   "cell_type": "code",
   "execution_count": 10,
   "metadata": {},
   "outputs": [
    {
     "name": "stdout",
     "output_type": "stream",
     "text": [
      "denver.spain@email.com\n"
     ]
    }
   ],
   "source": [
    "ds = Child('Denver Spain', [lk, nc])\n",
    "tn = Child('Tokio Nagasaki', [lk, nc])\n",
    "print(ds.email)"
   ]
  },
  {
   "cell_type": "code",
   "execution_count": 11,
   "metadata": {},
   "outputs": [
    {
     "name": "stdout",
     "output_type": "stream",
     "text": [
      "Lukin Kratas\n",
      "Nairobi Clark\n"
     ]
    }
   ],
   "source": [
    "ds.print_parents()"
   ]
  }
 ],
 "metadata": {
  "kernelspec": {
   "display_name": "Python 3",
   "language": "python",
   "name": "python3"
  },
  "language_info": {
   "codemirror_mode": {
    "name": "ipython",
    "version": 3
   },
   "file_extension": ".py",
   "mimetype": "text/x-python",
   "name": "python",
   "nbconvert_exporter": "python",
   "pygments_lexer": "ipython3",
   "version": "3.6.5"
  }
 },
 "nbformat": 4,
 "nbformat_minor": 2
}
