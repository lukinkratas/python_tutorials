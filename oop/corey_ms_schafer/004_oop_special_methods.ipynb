{
 "cells": [
  {
   "cell_type": "markdown",
   "metadata": {},
   "source": [
    "# Special methods\n",
    "https://www.youtube.com/watch?v=RSl87lqOXDE&list=PL-osiE80TeTsqhIuOqKhwlXsIBIdSeYtc&index=5  \n",
    "https://docs.python.org/3/reference/datamodel.html#special-method-names"
   ]
  },
  {
   "cell_type": "code",
   "execution_count": 1,
   "metadata": {},
   "outputs": [],
   "source": [
    "class Name(object):\n",
    "    \n",
    "    def __init__(self, full_name):\n",
    "        self.full = full_name\n",
    "        self.first, self.last = full_name.split()"
   ]
  },
  {
   "cell_type": "code",
   "execution_count": 2,
   "metadata": {},
   "outputs": [],
   "source": [
    "class Human(object):\n",
    "    \n",
    "    def __init__(self, full_name, age, weight):\n",
    "        self.name = Name(full_name)\n",
    "        self.age = age\n",
    "        self.weight = weight\n",
    "        self.email = f'{self.name.first}.{self.name.last}@email.com'.lower()\n",
    "                \n",
    "    def __repr__(self):\n",
    "        # for developers\n",
    "        # something, that can be copy & pasted into python\n",
    "        return f'Human(\\'{self.name.first} {self.name.last}, {self.age}, {self.weight}\\')'\n",
    "    \n",
    "    def __str__(self):\n",
    "        # for users\n",
    "        # should be readable and usable\n",
    "        return f'Human {self.name.first} {self.name.last}'\n",
    "    \n",
    "    # overwriting add method\n",
    "    def __add__(self, other):\n",
    "        return self.weight + other.weight\n",
    "    \n",
    "    # overwriting len method\n",
    "    def __len__(self):\n",
    "        return len(self.name.first)"
   ]
  },
  {
   "cell_type": "code",
   "execution_count": 3,
   "metadata": {},
   "outputs": [
    {
     "name": "stdout",
     "output_type": "stream",
     "text": [
      "Human Lukin Kratas\n"
     ]
    }
   ],
   "source": [
    "lk = Human('Lukin Kratas', 30, 80)\n",
    "print(lk)"
   ]
  },
  {
   "cell_type": "code",
   "execution_count": 4,
   "metadata": {},
   "outputs": [
    {
     "name": "stdout",
     "output_type": "stream",
     "text": [
      "Human('Lukin Kratas, 30, 80')\n",
      "Human('Lukin Kratas, 30, 80')\n",
      "Human Lukin Kratas\n",
      "Human Lukin Kratas\n"
     ]
    }
   ],
   "source": [
    "print(repr(lk))\n",
    "print(lk.__repr__())\n",
    "print(str(lk))\n",
    "print(lk.__str__())"
   ]
  },
  {
   "cell_type": "code",
   "execution_count": 5,
   "metadata": {},
   "outputs": [
    {
     "name": "stdout",
     "output_type": "stream",
     "text": [
      "3\n",
      "3\n",
      "ab\n",
      "ab\n",
      "3\n",
      "3\n"
     ]
    }
   ],
   "source": [
    "print(1 + 2)\n",
    "print(int.__add__(1,2))\n",
    "\n",
    "print('a' + 'b')\n",
    "print(str.__add__('a', 'b'))\n",
    "\n",
    "print(len('xxx'))\n",
    "print('xxx'.__len__())"
   ]
  },
  {
   "cell_type": "code",
   "execution_count": 6,
   "metadata": {},
   "outputs": [],
   "source": [
    "nc = Human('Nairobi Clark', 20, 60)"
   ]
  },
  {
   "cell_type": "code",
   "execution_count": 7,
   "metadata": {},
   "outputs": [
    {
     "data": {
      "text/plain": [
       "140"
      ]
     },
     "execution_count": 7,
     "metadata": {},
     "output_type": "execute_result"
    }
   ],
   "source": [
    "lk + nc"
   ]
  },
  {
   "cell_type": "code",
   "execution_count": 8,
   "metadata": {},
   "outputs": [
    {
     "name": "stdout",
     "output_type": "stream",
     "text": [
      "5\n"
     ]
    }
   ],
   "source": [
    "print(len(lk))"
   ]
  }
 ],
 "metadata": {
  "kernelspec": {
   "display_name": "Python 3",
   "language": "python",
   "name": "python3"
  },
  "language_info": {
   "codemirror_mode": {
    "name": "ipython",
    "version": 3
   },
   "file_extension": ".py",
   "mimetype": "text/x-python",
   "name": "python",
   "nbconvert_exporter": "python",
   "pygments_lexer": "ipython3",
   "version": "3.6.5"
  }
 },
 "nbformat": 4,
 "nbformat_minor": 2
}
