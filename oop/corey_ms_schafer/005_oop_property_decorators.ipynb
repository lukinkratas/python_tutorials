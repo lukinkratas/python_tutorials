{
 "cells": [
  {
   "cell_type": "markdown",
   "metadata": {},
   "source": [
    "# Property decorators\n",
    "https://www.youtube.com/watch?v=RSl87lqOXDE&list=PL-osiE80TeTsqhIuOqKhwlXsIBIdSeYtc&index=6  \n",
    "https://docs.python.org/3/reference/datamodel.html#special-method-names"
   ]
  },
  {
   "cell_type": "code",
   "execution_count": 1,
   "metadata": {},
   "outputs": [],
   "source": [
    "class Name(object):\n",
    "    \n",
    "    def __init__(self, full_name):\n",
    "        self.full = full_name\n",
    "        self.first, self.last = full_name.split()"
   ]
  },
  {
   "cell_type": "code",
   "execution_count": 2,
   "metadata": {},
   "outputs": [],
   "source": [
    "class Human(object):\n",
    "\n",
    "    def __init__(self, full_name, age, weight):\n",
    "        self.name = Name(full_name)\n",
    "    \n",
    "    @property #method, that behaves like attribute, useful when attribute update is dependent on other attributes\n",
    "    def email(self):\n",
    "        return f'{self.name.first}.{self.name.last}@email.com'.lower()\n",
    "    \n",
    "    @email.setter\n",
    "    def email(self, mail):\n",
    "        full_name = mail.rsplit('@')[0].replace('.', ' ').title()\n",
    "        self.name = Name(full_name)\n",
    "\n",
    "    @email.deleter\n",
    "    def email(self):\n",
    "        print('Deleting name.')\n",
    "        self.name = None"
   ]
  },
  {
   "cell_type": "code",
   "execution_count": 3,
   "metadata": {},
   "outputs": [
    {
     "name": "stdout",
     "output_type": "stream",
     "text": [
      "<__main__.Human object at 0x00000293F96A7438>\n",
      "Lukin\n",
      "Kratas\n",
      "Lukin Kratas\n",
      "lukin.kratas@email.com\n"
     ]
    }
   ],
   "source": [
    "lk = Human('Lukin Kratas', 30, 80)\n",
    "print(lk)\n",
    "print(lk.name.first)\n",
    "print(lk.name.last)\n",
    "print(lk.name.full)\n",
    "print(lk.email)"
   ]
  },
  {
   "cell_type": "code",
   "execution_count": 4,
   "metadata": {},
   "outputs": [
    {
     "name": "stdout",
     "output_type": "stream",
     "text": [
      "<__main__.Human object at 0x00000293F96A7438>\n",
      "Hugo\n",
      "Kratas\n",
      "Lukin Kratas\n",
      "hugo.kratas@email.com\n"
     ]
    }
   ],
   "source": [
    "lk.name.first = 'Hugo'\n",
    "print(lk)\n",
    "print(lk.name.first)\n",
    "print(lk.name.last)\n",
    "print(lk.name.full)\n",
    "print(lk.email)"
   ]
  },
  {
   "cell_type": "code",
   "execution_count": 5,
   "metadata": {},
   "outputs": [
    {
     "name": "stdout",
     "output_type": "stream",
     "text": [
      "<__main__.Human object at 0x00000293F96A77B8>\n",
      "Berlin\n",
      "Bellamy\n",
      "Berlin Bellamy\n",
      "berlin.bellamy@email.com\n"
     ]
    }
   ],
   "source": [
    "lk = Human('Lukin Kratas', 27, 80)\n",
    "lk.email = 'berlin.bellamy@xxx.com'\n",
    "print(lk)\n",
    "print(lk.name.first)\n",
    "print(lk.name.last)\n",
    "print(lk.name.full)\n",
    "print(lk.email)"
   ]
  },
  {
   "cell_type": "code",
   "execution_count": 6,
   "metadata": {},
   "outputs": [
    {
     "name": "stdout",
     "output_type": "stream",
     "text": [
      "Deleting name.\n"
     ]
    }
   ],
   "source": [
    "lk = Human('Lukin Kratas', 27, 80)\n",
    "del lk.email"
   ]
  }
 ],
 "metadata": {
  "kernelspec": {
   "display_name": "Python 3",
   "language": "python",
   "name": "python3"
  },
  "language_info": {
   "codemirror_mode": {
    "name": "ipython",
    "version": 3
   },
   "file_extension": ".py",
   "mimetype": "text/x-python",
   "name": "python",
   "nbconvert_exporter": "python",
   "pygments_lexer": "ipython3",
   "version": "3.6.5"
  }
 },
 "nbformat": 4,
 "nbformat_minor": 2
}
