{
 "cells": [
  {
   "cell_type": "markdown",
   "metadata": {},
   "source": [
    "# Series  \n",
    "https://youtu.be/zmdjNSmRXF4"
   ]
  },
  {
   "cell_type": "code",
   "execution_count": 1,
   "metadata": {},
   "outputs": [],
   "source": [
    "import pandas as pd"
   ]
  },
  {
   "cell_type": "code",
   "execution_count": 2,
   "metadata": {},
   "outputs": [],
   "source": [
    "people = {\n",
    "    'first': ['Lukin', 'Nairobi', 'Denver'],\n",
    "    'last': ['Kratas', 'Clark', 'Spain'],\n",
    "    'email': ['lukin.kratas@email.com', 'nairobi.clark@email.com', 'denver.spain@email.com'],\n",
    "}"
   ]
  },
  {
   "cell_type": "code",
   "execution_count": 3,
   "metadata": {},
   "outputs": [
    {
     "data": {
      "text/html": [
       "<div>\n",
       "<style scoped>\n",
       "    .dataframe tbody tr th:only-of-type {\n",
       "        vertical-align: middle;\n",
       "    }\n",
       "\n",
       "    .dataframe tbody tr th {\n",
       "        vertical-align: top;\n",
       "    }\n",
       "\n",
       "    .dataframe thead th {\n",
       "        text-align: right;\n",
       "    }\n",
       "</style>\n",
       "<table border=\"1\" class=\"dataframe\">\n",
       "  <thead>\n",
       "    <tr style=\"text-align: right;\">\n",
       "      <th></th>\n",
       "      <th>first</th>\n",
       "      <th>last</th>\n",
       "      <th>email</th>\n",
       "    </tr>\n",
       "  </thead>\n",
       "  <tbody>\n",
       "    <tr>\n",
       "      <td>0</td>\n",
       "      <td>Lukin</td>\n",
       "      <td>Kratas</td>\n",
       "      <td>lukin.kratas@email.com</td>\n",
       "    </tr>\n",
       "    <tr>\n",
       "      <td>1</td>\n",
       "      <td>Nairobi</td>\n",
       "      <td>Clark</td>\n",
       "      <td>nairobi.clark@email.com</td>\n",
       "    </tr>\n",
       "    <tr>\n",
       "      <td>2</td>\n",
       "      <td>Denver</td>\n",
       "      <td>Spain</td>\n",
       "      <td>denver.spain@email.com</td>\n",
       "    </tr>\n",
       "  </tbody>\n",
       "</table>\n",
       "</div>"
      ],
      "text/plain": [
       "     first    last                    email\n",
       "0    Lukin  Kratas   lukin.kratas@email.com\n",
       "1  Nairobi   Clark  nairobi.clark@email.com\n",
       "2   Denver   Spain   denver.spain@email.com"
      ]
     },
     "execution_count": 3,
     "metadata": {},
     "output_type": "execute_result"
    }
   ],
   "source": [
    "df = pd.DataFrame(people)\n",
    "df"
   ]
  },
  {
   "cell_type": "code",
   "execution_count": 4,
   "metadata": {},
   "outputs": [
    {
     "name": "stdout",
     "output_type": "stream",
     "text": [
      "0     lukin.kratas@email.com\n",
      "1    nairobi.clark@email.com\n",
      "2     denver.spain@email.com\n",
      "Name: email, dtype: object\n",
      "\n",
      "0     lukin.kratas@email.com\n",
      "1    nairobi.clark@email.com\n",
      "2     denver.spain@email.com\n",
      "Name: email, dtype: object\n",
      "\n",
      "<class 'pandas.core.series.Series'>\n"
     ]
    }
   ],
   "source": [
    "print(df['email'])\n",
    "print()\n",
    "print(df.email)\n",
    "print()\n",
    "print(type(df.email))"
   ]
  },
  {
   "cell_type": "code",
   "execution_count": 5,
   "metadata": {},
   "outputs": [
    {
     "name": "stdout",
     "output_type": "stream",
     "text": [
      "     last                    email\n",
      "0  Kratas   lukin.kratas@email.com\n",
      "1   Clark  nairobi.clark@email.com\n",
      "2   Spain   denver.spain@email.com\n",
      "\n",
      "<class 'pandas.core.frame.DataFrame'>\n"
     ]
    }
   ],
   "source": [
    "print(df[['last', 'email']])\n",
    "print()\n",
    "print(type(df[['last', 'email']]))"
   ]
  },
  {
   "cell_type": "code",
   "execution_count": 6,
   "metadata": {},
   "outputs": [
    {
     "name": "stdout",
     "output_type": "stream",
     "text": [
      "Index(['first', 'last', 'email'], dtype='object')\n"
     ]
    }
   ],
   "source": [
    "print(df.columns)"
   ]
  },
  {
   "cell_type": "code",
   "execution_count": 7,
   "metadata": {},
   "outputs": [
    {
     "name": "stdout",
     "output_type": "stream",
     "text": [
      "first                     Lukin\n",
      "last                     Kratas\n",
      "email    lukin.kratas@email.com\n",
      "Name: 0, dtype: object\n",
      "\n",
      "     first    last                    email\n",
      "0    Lukin  Kratas   lukin.kratas@email.com\n",
      "1  Nairobi   Clark  nairobi.clark@email.com\n",
      "\n",
      "     last                    email\n",
      "0  Kratas   lukin.kratas@email.com\n",
      "1   Clark  nairobi.clark@email.com\n"
     ]
    }
   ],
   "source": [
    "# iloc = integered location\n",
    "print(df.iloc[0])\n",
    "print()\n",
    "print(df.iloc[[0, 1]])\n",
    "print()\n",
    "print(df.iloc[[0, 1], [1, 2]])"
   ]
  },
  {
   "cell_type": "code",
   "execution_count": 8,
   "metadata": {},
   "outputs": [
    {
     "name": "stdout",
     "output_type": "stream",
     "text": [
      "first                     Lukin\n",
      "last                     Kratas\n",
      "email    lukin.kratas@email.com\n",
      "Name: 0, dtype: object\n",
      "\n",
      "     last                    email\n",
      "0  Kratas   lukin.kratas@email.com\n",
      "1   Clark  nairobi.clark@email.com\n"
     ]
    }
   ],
   "source": [
    "# loc = labeled location\n",
    "print(df.loc[0])\n",
    "print()\n",
    "print(df.loc[[0, 1], ['last', 'email']])"
   ]
  },
  {
   "cell_type": "code",
   "execution_count": 9,
   "metadata": {},
   "outputs": [],
   "source": [
    "schema_df = pd.read_csv('survey_results_schema.csv')\n",
    "df = pd.read_csv('survey_results_public.csv')\n",
    "pd.set_option('display.max_columns', 85)"
   ]
  },
  {
   "cell_type": "code",
   "execution_count": 10,
   "metadata": {},
   "outputs": [
    {
     "data": {
      "text/plain": [
       "(88883, 85)"
      ]
     },
     "execution_count": 10,
     "metadata": {},
     "output_type": "execute_result"
    }
   ],
   "source": [
    "df.shape"
   ]
  },
  {
   "cell_type": "code",
   "execution_count": 11,
   "metadata": {},
   "outputs": [
    {
     "data": {
      "text/plain": [
       "Index(['Respondent', 'MainBranch', 'Hobbyist', 'OpenSourcer', 'OpenSource',\n",
       "       'Employment', 'Country', 'Student', 'EdLevel', 'UndergradMajor',\n",
       "       'EduOther', 'OrgSize', 'DevType', 'YearsCode', 'Age1stCode',\n",
       "       'YearsCodePro', 'CareerSat', 'JobSat', 'MgrIdiot', 'MgrMoney',\n",
       "       'MgrWant', 'JobSeek', 'LastHireDate', 'LastInt', 'FizzBuzz',\n",
       "       'JobFactors', 'ResumeUpdate', 'CurrencySymbol', 'CurrencyDesc',\n",
       "       'CompTotal', 'CompFreq', 'ConvertedComp', 'WorkWeekHrs', 'WorkPlan',\n",
       "       'WorkChallenge', 'WorkRemote', 'WorkLoc', 'ImpSyn', 'CodeRev',\n",
       "       'CodeRevHrs', 'UnitTests', 'PurchaseHow', 'PurchaseWhat',\n",
       "       'LanguageWorkedWith', 'LanguageDesireNextYear', 'DatabaseWorkedWith',\n",
       "       'DatabaseDesireNextYear', 'PlatformWorkedWith',\n",
       "       'PlatformDesireNextYear', 'WebFrameWorkedWith',\n",
       "       'WebFrameDesireNextYear', 'MiscTechWorkedWith',\n",
       "       'MiscTechDesireNextYear', 'DevEnviron', 'OpSys', 'Containers',\n",
       "       'BlockchainOrg', 'BlockchainIs', 'BetterLife', 'ITperson', 'OffOn',\n",
       "       'SocialMedia', 'Extraversion', 'ScreenName', 'SOVisit1st',\n",
       "       'SOVisitFreq', 'SOVisitTo', 'SOFindAnswer', 'SOTimeSaved',\n",
       "       'SOHowMuchTime', 'SOAccount', 'SOPartFreq', 'SOJobs', 'EntTeams',\n",
       "       'SOComm', 'WelcomeChange', 'SONewContent', 'Age', 'Gender', 'Trans',\n",
       "       'Sexuality', 'Ethnicity', 'Dependents', 'SurveyLength', 'SurveyEase'],\n",
       "      dtype='object')"
      ]
     },
     "execution_count": 11,
     "metadata": {},
     "output_type": "execute_result"
    }
   ],
   "source": [
    "df.columns"
   ]
  },
  {
   "cell_type": "code",
   "execution_count": 12,
   "metadata": {},
   "outputs": [
    {
     "data": {
      "text/plain": [
       "0        Yes\n",
       "1         No\n",
       "2        Yes\n",
       "3         No\n",
       "4        Yes\n",
       "        ... \n",
       "88878    Yes\n",
       "88879     No\n",
       "88880     No\n",
       "88881     No\n",
       "88882    Yes\n",
       "Name: Hobbyist, Length: 88883, dtype: object"
      ]
     },
     "execution_count": 12,
     "metadata": {},
     "output_type": "execute_result"
    }
   ],
   "source": [
    "df['Hobbyist']"
   ]
  },
  {
   "cell_type": "code",
   "execution_count": 13,
   "metadata": {},
   "outputs": [
    {
     "data": {
      "text/plain": [
       "Yes    71257\n",
       "No     17626\n",
       "Name: Hobbyist, dtype: int64"
      ]
     },
     "execution_count": 13,
     "metadata": {},
     "output_type": "execute_result"
    }
   ],
   "source": [
    "df['Hobbyist'].value_counts()"
   ]
  },
  {
   "cell_type": "code",
   "execution_count": 14,
   "metadata": {},
   "outputs": [
    {
     "name": "stdout",
     "output_type": "stream",
     "text": [
      "  Hobbyist                 OpenSourcer\n",
      "0      Yes                       Never\n",
      "1       No     Less than once per year\n",
      "2      Yes                       Never\n",
      "3       No                       Never\n",
      "4      Yes  Once a month or more often\n",
      "\n",
      "  Hobbyist                 OpenSourcer\n",
      "0      Yes                       Never\n",
      "1       No     Less than once per year\n",
      "2      Yes                       Never\n",
      "3       No                       Never\n",
      "4      Yes  Once a month or more often\n",
      "\n",
      "  Hobbyist                 OpenSourcer\n",
      "0      Yes                       Never\n",
      "1       No     Less than once per year\n",
      "2      Yes                       Never\n",
      "3       No                       Never\n",
      "4      Yes  Once a month or more often\n"
     ]
    }
   ],
   "source": [
    "print(df.loc[[0, 1, 2, 3, 4], 'Hobbyist':'OpenSourcer'])\n",
    "print()\n",
    "print(df.loc[range(5), 'Hobbyist':'OpenSourcer'])\n",
    "print()\n",
    "print(df.loc[0:4, 'Hobbyist':'OpenSourcer'])"
   ]
  }
 ],
 "metadata": {
  "kernelspec": {
   "display_name": "Python 3",
   "language": "python",
   "name": "python3"
  },
  "language_info": {
   "codemirror_mode": {
    "name": "ipython",
    "version": 3
   },
   "file_extension": ".py",
   "mimetype": "text/x-python",
   "name": "python",
   "nbconvert_exporter": "python",
   "pygments_lexer": "ipython3",
   "version": "3.7.4"
  }
 },
 "nbformat": 4,
 "nbformat_minor": 2
}
