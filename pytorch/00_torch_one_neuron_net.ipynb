{
  "nbformat": 4,
  "nbformat_minor": 0,
  "metadata": {
    "colab": {
      "name": "00_torchOneNeuronNet.ipynb",
      "provenance": [],
      "collapsed_sections": []
    },
    "kernelspec": {
      "display_name": "Python 3",
      "language": "python",
      "name": "python3"
    },
    "language_info": {
      "codemirror_mode": {
        "name": "ipython",
        "version": 3
      },
      "file_extension": ".py",
      "mimetype": "text/x-python",
      "name": "python",
      "nbconvert_exporter": "python",
      "pygments_lexer": "ipython3",
      "version": "3.6.5"
    }
  },
  "cells": [
    {
      "cell_type": "markdown",
      "metadata": {
        "colab_type": "text",
        "id": "-0YanepKxLaQ"
      },
      "source": [
        "One neuron net, that finds solution for line (linear equation):  \n",
        "$$y=2x+1$$  \n",
        "*2 = expected weight*  \n",
        "*1 = expected bias*\n",
        "\n",
        "inputs: 0, 1, 2, 3, 4, 5, 6, 7, 8, 9, 10  \n",
        "outputs: 1, 3, 5, 7, 9, 11, 13, 15, 17, 19, 21"
      ]
    },
    {
      "cell_type": "code",
      "metadata": {
        "colab_type": "code",
        "id": "e40pSy-EnGY-",
        "outputId": "f7bf6857-1d1d-43a3-a8ac-987aaf93d41d",
        "colab": {
          "base_uri": "https://localhost:8080/",
          "height": 51
        }
      },
      "source": [
        "# only for the case, when you execute it in google colab:\n",
        "# !pip install torch"
      ],
      "execution_count": 1,
      "outputs": [
        {
          "output_type": "stream",
          "text": [
            "Requirement already satisfied: torch in /usr/local/lib/python3.6/dist-packages (1.3.1+cu100)\n",
            "Requirement already satisfied: numpy in /usr/local/lib/python3.6/dist-packages (from torch) (1.17.4)\n"
          ],
          "name": "stdout"
        }
      ]
    },
    {
      "cell_type": "code",
      "metadata": {
        "colab_type": "code",
        "id": "yZ0k1_nTnrvm",
        "outputId": "77df9c8e-af80-40b5-9a06-65b02a8f821e",
        "colab": {
          "base_uri": "https://localhost:8080/",
          "height": 34
        }
      },
      "source": [
        "import torch\n",
        "import torch.nn as nn\n",
        "import torch.nn.functional as F\n",
        "import torch.optim as optim\n",
        "\n",
        "from matplotlib import pyplot as plt\n",
        "from matplotlib.ticker import AutoMinorLocator, MultipleLocator\n",
        "\n",
        "print(torch.__version__)"
      ],
      "execution_count": 2,
      "outputs": [
        {
          "output_type": "stream",
          "text": [
            "1.3.1+cu100\n"
          ],
          "name": "stdout"
        }
      ]
    },
    {
      "cell_type": "code",
      "metadata": {
        "colab_type": "code",
        "id": "OXfE7sC1F11I",
        "outputId": "3ec3d298-2719-4512-88ff-afe64adb661d",
        "colab": {
          "base_uri": "https://localhost:8080/",
          "height": 374
        }
      },
      "source": [
        "inputs = torch.tensor([[0.], [1.], [2.], [3.], [4.], [5.], [6.], [7.], [8.], [9.], [10.]], dtype=torch.float32)\n",
        "outputs = torch.tensor([[1.], [3.], [5.], [7.], [9.], [11.], [13.], [15.], [17.], [19.], [21.]], dtype=torch.float32)\n",
        "inputs, outputs"
      ],
      "execution_count": 3,
      "outputs": [
        {
          "output_type": "execute_result",
          "data": {
            "text/plain": [
              "(tensor([[ 0.],\n",
              "         [ 1.],\n",
              "         [ 2.],\n",
              "         [ 3.],\n",
              "         [ 4.],\n",
              "         [ 5.],\n",
              "         [ 6.],\n",
              "         [ 7.],\n",
              "         [ 8.],\n",
              "         [ 9.],\n",
              "         [10.]]), tensor([[ 1.],\n",
              "         [ 3.],\n",
              "         [ 5.],\n",
              "         [ 7.],\n",
              "         [ 9.],\n",
              "         [11.],\n",
              "         [13.],\n",
              "         [15.],\n",
              "         [17.],\n",
              "         [19.],\n",
              "         [21.]]))"
            ]
          },
          "metadata": {
            "tags": []
          },
          "execution_count": 3
        }
      ]
    },
    {
      "cell_type": "code",
      "metadata": {
        "colab_type": "code",
        "id": "WN2B0TwyoOzG",
        "outputId": "41022eed-90c3-4100-9ab6-c22df1c3320a",
        "colab": {
          "base_uri": "https://localhost:8080/",
          "height": 187
        }
      },
      "source": [
        "training_inputs, test_inputs = torch.split(inputs, 7, dim=0)\n",
        "training_inputs, test_inputs"
      ],
      "execution_count": 4,
      "outputs": [
        {
          "output_type": "execute_result",
          "data": {
            "text/plain": [
              "(tensor([[0.],\n",
              "         [1.],\n",
              "         [2.],\n",
              "         [3.],\n",
              "         [4.],\n",
              "         [5.],\n",
              "         [6.]]), tensor([[ 7.],\n",
              "         [ 8.],\n",
              "         [ 9.],\n",
              "         [10.]]))"
            ]
          },
          "metadata": {
            "tags": []
          },
          "execution_count": 4
        }
      ]
    },
    {
      "cell_type": "code",
      "metadata": {
        "colab_type": "code",
        "id": "VZMJJZb-JJaP",
        "outputId": "e64e3a4b-c07a-4c70-8a9e-755ee5f0b6bd",
        "colab": {
          "base_uri": "https://localhost:8080/",
          "height": 187
        }
      },
      "source": [
        "training_outputs, test_outputs = torch.split(outputs, 7, dim=0)\n",
        "training_outputs, test_outputs"
      ],
      "execution_count": 5,
      "outputs": [
        {
          "output_type": "execute_result",
          "data": {
            "text/plain": [
              "(tensor([[ 1.],\n",
              "         [ 3.],\n",
              "         [ 5.],\n",
              "         [ 7.],\n",
              "         [ 9.],\n",
              "         [11.],\n",
              "         [13.]]), tensor([[15.],\n",
              "         [17.],\n",
              "         [19.],\n",
              "         [21.]]))"
            ]
          },
          "metadata": {
            "tags": []
          },
          "execution_count": 5
        }
      ]
    },
    {
      "cell_type": "markdown",
      "metadata": {
        "colab_type": "text",
        "id": "Z3PeXLr54k1c"
      },
      "source": [
        "*Plot the data:*"
      ]
    },
    {
      "cell_type": "code",
      "metadata": {
        "colab_type": "code",
        "id": "zMUATP8T4hRx",
        "outputId": "6b497733-4fa0-4617-aecc-506f7dc00c4d",
        "colab": {
          "base_uri": "https://localhost:8080/",
          "height": 295
        }
      },
      "source": [
        "fig, ax = plt.subplots()\n",
        "\n",
        "ax.plot(training_inputs, training_outputs, marker='o', linestyle='', label='Training data')\n",
        "ax.plot(test_inputs, test_outputs, marker='o', linestyle='', label='Test data')\n",
        "\n",
        "ax.set_title('Data')\n",
        "ax.set_xlabel('x')\n",
        "ax.set_ylabel('y')\n",
        "\n",
        "ax.legend()\n",
        "ax.yaxis.set_major_locator(MultipleLocator(1))\n",
        "ax.grid(True)\n",
        "\n",
        "plt.show()"
      ],
      "execution_count": 6,
      "outputs": [
        {
          "output_type": "display_data",
          "data": {
            "image/png": "[encoded data removed]",
            "text/plain": [
              "<Figure size 432x288 with 1 Axes>"
            ]
          },
          "metadata": {
            "tags": []
          }
        }
      ]
    },
    {
      "cell_type": "markdown",
      "metadata": {
        "id": "Qj5ZwGegMgQy",
        "colab_type": "text"
      },
      "source": [
        "1 fully connected (dense) layer with 1 input  \n",
        "optimizer: Stochastic gradient descent  \n",
        "loss function: Mean squared error https://en.wikipedia.org/wiki/Mean_squared_error  \n",
        "$$\\frac{1}{n}\\sum_{i=1}^n (x_i-\\overline{x_i})^2$$  \n"
      ]
    },
    {
      "cell_type": "code",
      "metadata": {
        "id": "CqU29ug3MgQw",
        "colab_type": "code",
        "colab": {}
      },
      "source": [
        "class Model(nn.Module):\n",
        "    def __init__(self):\n",
        "        super(Model, self).__init__()\n",
        "        self.fc = nn.Linear(in_features=1, out_features=1)\n",
        "        \n",
        "    def forward(self, t):\n",
        "        return F.relu(self.fc(t))"
      ],
      "execution_count": 0,
      "outputs": []
    },
    {
      "cell_type": "code",
      "metadata": {
        "id": "8cE933Y1MgQy",
        "colab_type": "code",
        "colab": {
          "base_uri": "https://localhost:8080/",
          "height": 187
        },
        "outputId": "1c04d004-0cb8-4843-c569-28450eda4fa5"
      },
      "source": [
        "model = Model()\n",
        "\n",
        "optimizer = optim.SGD(model.parameters(), lr=0.01)\n",
        "\n",
        "for epoch in range(10):\n",
        "    total_loss = 0\n",
        "\n",
        "    for input, output in zip(training_inputs,training_outputs):\n",
        "        \n",
        "        preds = model(input)\n",
        "        loss = F.mse_loss(preds, output)\n",
        "\n",
        "        optimizer.zero_grad()\n",
        "        loss.backward()\n",
        "        optimizer.step()\n",
        "\n",
        "        total_loss += loss.item()\n",
        "\n",
        "    print(f'epoch: {epoch} loss: {total_loss:.2f}')"
      ],
      "execution_count": 8,
      "outputs": [
        {
          "output_type": "stream",
          "text": [
            "epoch: 0 loss: 48.68\n",
            "epoch: 1 loss: 1.70\n",
            "epoch: 2 loss: 1.22\n",
            "epoch: 3 loss: 1.11\n",
            "epoch: 4 loss: 1.02\n",
            "epoch: 5 loss: 0.93\n",
            "epoch: 6 loss: 0.86\n",
            "epoch: 7 loss: 0.79\n",
            "epoch: 8 loss: 0.72\n",
            "epoch: 9 loss: 0.66\n"
          ],
          "name": "stdout"
        }
      ]
    },
    {
      "cell_type": "code",
      "metadata": {
        "colab_type": "code",
        "id": "IevdmYnwpmyS",
        "outputId": "114580c1-1bd1-490b-b47b-90f9b389cd5c",
        "colab": {
          "base_uri": "https://localhost:8080/",
          "height": 85
        }
      },
      "source": [
        "predictions = model(test_inputs).detach().numpy()\n",
        "predictions"
      ],
      "execution_count": 9,
      "outputs": [
        {
          "output_type": "execute_result",
          "data": {
            "text/plain": [
              "array([[15.142108],\n",
              "       [17.237398],\n",
              "       [19.33269 ],\n",
              "       [21.427979]], dtype=float32)"
            ]
          },
          "metadata": {
            "tags": []
          },
          "execution_count": 9
        }
      ]
    },
    {
      "cell_type": "code",
      "metadata": {
        "colab_type": "code",
        "id": "5n3nXh-LAd3A",
        "outputId": "f7345e38-04c7-419f-aad4-71c10d7f85fd",
        "colab": {
          "base_uri": "https://localhost:8080/",
          "height": 279
        }
      },
      "source": [
        "fig, ax = plt.subplots()\n",
        "\n",
        "ax.plot(test_inputs, test_outputs, marker='o', label='Test data')\n",
        "ax.plot(test_inputs, predictions, marker='o', label='Predictions')\n",
        "\n",
        "ax.set_xlabel('x')\n",
        "ax.set_ylabel('y')\n",
        "\n",
        "ax.legend()\n",
        "ax.yaxis.set_major_locator(MultipleLocator(1))\n",
        "ax.grid(True)\n",
        "\n",
        "plt.show()"
      ],
      "execution_count": 10,
      "outputs": [
        {
          "output_type": "display_data",
          "data": {
            "image/png": "[encoded data removed]",
            "text/plain": [
              "<Figure size 432x288 with 1 Axes>"
            ]
          },
          "metadata": {
            "tags": []
          }
        }
      ]
    },
    {
      "cell_type": "code",
      "metadata": {
        "colab_type": "code",
        "id": "BoFTESyZq-xz",
        "colab": {
          "base_uri": "https://localhost:8080/",
          "height": 34
        },
        "outputId": "4298057d-e6c7-49d5-dad6-84186f597000"
      },
      "source": [
        "weight = model.fc.weight.item()\n",
        "bias = model.fc.bias.item()\n",
        "weight, bias"
      ],
      "execution_count": 12,
      "outputs": [
        {
          "output_type": "execute_result",
          "data": {
            "text/plain": [
              "(2.095290184020996, 0.47507649660110474)"
            ]
          },
          "metadata": {
            "tags": []
          },
          "execution_count": 12
        }
      ]
    }
  ]
}