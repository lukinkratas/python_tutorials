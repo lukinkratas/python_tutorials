{
  "nbformat": 4,
  "nbformat_minor": 0,
  "metadata": {
    "kernelspec": {
      "display_name": "Python 3",
      "language": "python",
      "name": "python3"
    },
    "language_info": {
      "codemirror_mode": {
        "name": "ipython",
        "version": 3
      },
      "file_extension": ".py",
      "mimetype": "text/x-python",
      "name": "python",
      "nbconvert_exporter": "python",
      "pygments_lexer": "ipython3",
      "version": "3.6.5"
    },
    "colab": {
      "name": "01_torchOneNeuronNet.ipynb",
      "provenance": []
    }
  },
  "cells": [
    {
      "cell_type": "markdown",
      "metadata": {
        "id": "5jqRFROSMhsu",
        "colab_type": "text"
      },
      "source": [
        "One neuron net, that finds solution for line (linear equation):  \n",
        "$$y=2x+1$$  \n",
        "\n",
        "inputs: -5, -4, -3, -2, -1, 0, 1, 2, 3, 4, 5  \n",
        "outputs: -9, -7, -5, -3, -1, 1, 3, 5, 7, 9, 11"
      ]
    },
    {
      "cell_type": "code",
      "metadata": {
        "id": "Qs-YFSWcMhsx",
        "colab_type": "code",
        "colab": {}
      },
      "source": [
        "# only for the case, when you execute it in google colab:\n",
        "# !pip install torch"
      ],
      "execution_count": 0,
      "outputs": []
    },
    {
      "cell_type": "code",
      "metadata": {
        "id": "R26VDe1IMhs1",
        "colab_type": "code",
        "colab": {
          "base_uri": "https://localhost:8080/",
          "height": 34
        },
        "outputId": "51f50ffd-97d2-4915-9018-6f6ee10071d3"
      },
      "source": [
        "import torch\n",
        "import torch.nn as nn\n",
        "import torch.nn.functional as F\n",
        "import torch.optim as optim\n",
        "\n",
        "from matplotlib import pyplot as plt\n",
        "from matplotlib.ticker import AutoMinorLocator, MultipleLocator\n",
        "\n",
        "print(torch.__version__)"
      ],
      "execution_count": 2,
      "outputs": [
        {
          "output_type": "stream",
          "text": [
            "1.3.1+cu100\n"
          ],
          "name": "stdout"
        }
      ]
    },
    {
      "cell_type": "code",
      "metadata": {
        "id": "8_3tNoO0Mhs6",
        "colab_type": "code",
        "colab": {
          "base_uri": "https://localhost:8080/",
          "height": 374
        },
        "outputId": "2c26f761-19a9-41ba-91c1-86603339adb7"
      },
      "source": [
        "inputs = torch.tensor([[-5.], [-4.], [-3.], [-2.], [-1.], [0.], [1.], [2.], [3.], [4.], [5.]], dtype=torch.float32)\n",
        "outputs = inputs.mul(2).add(1)\n",
        "inputs, outputs"
      ],
      "execution_count": 3,
      "outputs": [
        {
          "output_type": "execute_result",
          "data": {
            "text/plain": [
              "(tensor([[-5.],\n",
              "         [-4.],\n",
              "         [-3.],\n",
              "         [-2.],\n",
              "         [-1.],\n",
              "         [ 0.],\n",
              "         [ 1.],\n",
              "         [ 2.],\n",
              "         [ 3.],\n",
              "         [ 4.],\n",
              "         [ 5.]]), tensor([[-9.],\n",
              "         [-7.],\n",
              "         [-5.],\n",
              "         [-3.],\n",
              "         [-1.],\n",
              "         [ 1.],\n",
              "         [ 3.],\n",
              "         [ 5.],\n",
              "         [ 7.],\n",
              "         [ 9.],\n",
              "         [11.]]))"
            ]
          },
          "metadata": {
            "tags": []
          },
          "execution_count": 3
        }
      ]
    },
    {
      "cell_type": "code",
      "metadata": {
        "id": "vLGIA2XKMhs-",
        "colab_type": "code",
        "colab": {
          "base_uri": "https://localhost:8080/",
          "height": 295
        },
        "outputId": "6746cc31-d144-4152-e562-c34c4af7ef3f"
      },
      "source": [
        "fig, ax = plt.subplots()\n",
        "\n",
        "ax.plot(inputs, outputs, marker='o', label='$y=2x+1$')\n",
        "\n",
        "ax.set_title('Data')\n",
        "ax.set_xlabel('x')\n",
        "ax.set_ylabel('y')\n",
        "\n",
        "ax.yaxis.set_major_locator(MultipleLocator(1.0))\n",
        "ax.legend()\n",
        "ax.grid(True)\n",
        "\n",
        "plt.show()"
      ],
      "execution_count": 4,
      "outputs": [
        {
          "output_type": "display_data",
          "data": {
            "image/png": "[encoded data removed]",
            "text/plain": [
              "<Figure size 432x288 with 1 Axes>"
            ]
          },
          "metadata": {
            "tags": []
          }
        }
      ]
    },
    {
      "cell_type": "markdown",
      "metadata": {
        "id": "v7_cLjG_MhtB",
        "colab_type": "text"
      },
      "source": [
        "Data have to be normalized to be in range from 0 to 1, otherwise the negative value will cause untrainable weight with combination with ReLU activation function:  \n",
        "*Normalization equation for each element x from tensot t:*  \n",
        "$$\\frac{x-t_{min}}{t_{max}-t_{min}}$$\n",
        "\n",
        "With normalization the line equations becomes:  \n",
        "$$y=1x+0$$  \n",
        "*1 = expected weight*  \n",
        "*0 = expected bias*  "
      ]
    },
    {
      "cell_type": "code",
      "metadata": {
        "id": "VYjOazi6MhtC",
        "colab_type": "code",
        "colab": {}
      },
      "source": [
        "def normalize(tensor):\n",
        "    '''normalize each element x from tensor to be between 0 and 1: (x-min)/(max-min)'''\n",
        "    max = torch.max(tensor)\n",
        "    min = torch.min(tensor)\n",
        "    \n",
        "    normed_tensor = tensor.sub(min).div(max-min)\n",
        "    \n",
        "    return normed_tensor"
      ],
      "execution_count": 0,
      "outputs": []
    },
    {
      "cell_type": "code",
      "metadata": {
        "id": "9w2bht75MhtF",
        "colab_type": "code",
        "colab": {
          "base_uri": "https://localhost:8080/",
          "height": 374
        },
        "outputId": "48801f08-2596-4b6b-fb9a-641f40a5f6c0"
      },
      "source": [
        "inputs_normed = normalize(inputs)\n",
        "outputs_normed = normalize(outputs)\n",
        "inputs_normed, outputs_normed"
      ],
      "execution_count": 6,
      "outputs": [
        {
          "output_type": "execute_result",
          "data": {
            "text/plain": [
              "(tensor([[0.0000],\n",
              "         [0.1000],\n",
              "         [0.2000],\n",
              "         [0.3000],\n",
              "         [0.4000],\n",
              "         [0.5000],\n",
              "         [0.6000],\n",
              "         [0.7000],\n",
              "         [0.8000],\n",
              "         [0.9000],\n",
              "         [1.0000]]), tensor([[0.0000],\n",
              "         [0.1000],\n",
              "         [0.2000],\n",
              "         [0.3000],\n",
              "         [0.4000],\n",
              "         [0.5000],\n",
              "         [0.6000],\n",
              "         [0.7000],\n",
              "         [0.8000],\n",
              "         [0.9000],\n",
              "         [1.0000]]))"
            ]
          },
          "metadata": {
            "tags": []
          },
          "execution_count": 6
        }
      ]
    },
    {
      "cell_type": "code",
      "metadata": {
        "id": "5TIXmv2AMhtI",
        "colab_type": "code",
        "colab": {
          "base_uri": "https://localhost:8080/",
          "height": 187
        },
        "outputId": "037cf0dd-a734-4291-fd26-cf428fdfdea7"
      },
      "source": [
        "training_inputs, test_inputs = torch.split(inputs_normed, 7, dim=0)\n",
        "training_inputs, test_inputs"
      ],
      "execution_count": 7,
      "outputs": [
        {
          "output_type": "execute_result",
          "data": {
            "text/plain": [
              "(tensor([[0.0000],\n",
              "         [0.1000],\n",
              "         [0.2000],\n",
              "         [0.3000],\n",
              "         [0.4000],\n",
              "         [0.5000],\n",
              "         [0.6000]]), tensor([[0.7000],\n",
              "         [0.8000],\n",
              "         [0.9000],\n",
              "         [1.0000]]))"
            ]
          },
          "metadata": {
            "tags": []
          },
          "execution_count": 7
        }
      ]
    },
    {
      "cell_type": "code",
      "metadata": {
        "id": "2mP7h812MhtK",
        "colab_type": "code",
        "colab": {
          "base_uri": "https://localhost:8080/",
          "height": 187
        },
        "outputId": "c9b405da-d57c-4083-fcc6-46742b45ff78"
      },
      "source": [
        "training_outputs, test_outputs = torch.split(outputs_normed, 7, dim=0)\n",
        "training_outputs, test_outputs"
      ],
      "execution_count": 8,
      "outputs": [
        {
          "output_type": "execute_result",
          "data": {
            "text/plain": [
              "(tensor([[0.0000],\n",
              "         [0.1000],\n",
              "         [0.2000],\n",
              "         [0.3000],\n",
              "         [0.4000],\n",
              "         [0.5000],\n",
              "         [0.6000]]), tensor([[0.7000],\n",
              "         [0.8000],\n",
              "         [0.9000],\n",
              "         [1.0000]]))"
            ]
          },
          "metadata": {
            "tags": []
          },
          "execution_count": 8
        }
      ]
    },
    {
      "cell_type": "code",
      "metadata": {
        "id": "fsWihwMtMhtN",
        "colab_type": "code",
        "colab": {
          "base_uri": "https://localhost:8080/",
          "height": 295
        },
        "outputId": "881806df-48a2-40ea-9391-30e19b10f546"
      },
      "source": [
        "fig, ax = plt.subplots()\n",
        "\n",
        "ax.plot(training_inputs, training_outputs, marker='o', linestyle='', label='Training data')\n",
        "ax.plot(test_inputs, test_outputs, marker='o', linestyle='', label='Test data')\n",
        "\n",
        "ax.set_title('Normalized data')\n",
        "ax.set_xlabel('x')\n",
        "ax.set_ylabel('y')\n",
        "\n",
        "ax.yaxis.set_major_locator(MultipleLocator(0.1))\n",
        "\n",
        "ax.legend()\n",
        "ax.grid(True)\n",
        "\n",
        "plt.show()"
      ],
      "execution_count": 9,
      "outputs": [
        {
          "output_type": "display_data",
          "data": {
            "image/png": "[encoded data removed]",
            "text/plain": [
              "<Figure size 432x288 with 1 Axes>"
            ]
          },
          "metadata": {
            "tags": []
          }
        }
      ]
    },
    {
      "cell_type": "markdown",
      "metadata": {
        "id": "Wg164Z5eMhtS",
        "colab_type": "text"
      },
      "source": [
        "1 fully connected (dense) layer with 1 input  \n",
        "optimizer: Stochastic gradient descent  \n",
        "loss function: Mean squared error https://en.wikipedia.org/wiki/Mean_squared_error  \n",
        "$$\\frac{1}{n}\\sum_{i=1}^n (x_i-\\overline{x_i})^2$$  \n"
      ]
    },
    {
      "cell_type": "code",
      "metadata": {
        "id": "fZnNikJFMhtQ",
        "colab_type": "code",
        "colab": {}
      },
      "source": [
        "class Model(nn.Module):\n",
        "    def __init__(self):\n",
        "        super(Model, self).__init__()\n",
        "        self.fc = nn.Linear(in_features=1, out_features=1)\n",
        "        \n",
        "        \n",
        "    def forward(self, t):\n",
        "        t = self.fc(t)\n",
        "        t = F.relu(t)\n",
        "        return t"
      ],
      "execution_count": 0,
      "outputs": []
    },
    {
      "cell_type": "code",
      "metadata": {
        "id": "6ADzcmqiMhtU",
        "colab_type": "code",
        "colab": {
          "base_uri": "https://localhost:8080/",
          "height": 187
        },
        "outputId": "37f80326-64cc-4e1b-f248-b57e308bf324"
      },
      "source": [
        "model = Model()\n",
        "\n",
        "optimizer = optim.SGD(model.parameters(), lr=0.01)\n",
        "\n",
        "for epoch in range(10):\n",
        "    total_loss = 0\n",
        "\n",
        "    for input, output in zip(training_inputs,training_outputs):\n",
        "        \n",
        "        preds = model(input)\n",
        "        loss = F.mse_loss(preds, output)\n",
        "\n",
        "        optimizer.zero_grad()\n",
        "        loss.backward()\n",
        "        optimizer.step()\n",
        "\n",
        "        total_loss += loss.item()\n",
        "\n",
        "    print(f'epoch: {epoch} loss: {total_loss:.2f}')"
      ],
      "execution_count": 11,
      "outputs": [
        {
          "output_type": "stream",
          "text": [
            "epoch: 0 loss: 1.91\n",
            "epoch: 1 loss: 1.40\n",
            "epoch: 2 loss: 1.04\n",
            "epoch: 3 loss: 0.76\n",
            "epoch: 4 loss: 0.57\n",
            "epoch: 5 loss: 0.42\n",
            "epoch: 6 loss: 0.31\n",
            "epoch: 7 loss: 0.23\n",
            "epoch: 8 loss: 0.17\n",
            "epoch: 9 loss: 0.13\n"
          ],
          "name": "stdout"
        }
      ]
    },
    {
      "cell_type": "code",
      "metadata": {
        "id": "J_0hQGtbMhtW",
        "colab_type": "code",
        "colab": {
          "base_uri": "https://localhost:8080/",
          "height": 85
        },
        "outputId": "d42278af-28c3-4dc3-d40c-83cf8078f3c9"
      },
      "source": [
        "predictions = model(test_inputs).detach().numpy()\n",
        "predictions"
      ],
      "execution_count": 12,
      "outputs": [
        {
          "output_type": "execute_result",
          "data": {
            "text/plain": [
              "array([[0.75239444],\n",
              "       [0.8351246 ],\n",
              "       [0.9178548 ],\n",
              "       [1.000585  ]], dtype=float32)"
            ]
          },
          "metadata": {
            "tags": []
          },
          "execution_count": 12
        }
      ]
    },
    {
      "cell_type": "code",
      "metadata": {
        "id": "ay4j5xFqMhtZ",
        "colab_type": "code",
        "colab": {
          "base_uri": "https://localhost:8080/",
          "height": 279
        },
        "outputId": "9a42d5cd-1a1c-470e-f32a-3fe73d00a5cd"
      },
      "source": [
        "fig, ax = plt.subplots()\n",
        "\n",
        "ax.plot(test_inputs, test_outputs, marker='o', label='Test data')\n",
        "ax.plot(test_inputs, predictions, marker='o', label='Predictions')\n",
        "\n",
        "ax.set_xlabel('x')\n",
        "ax.set_ylabel('y')\n",
        "\n",
        "ax.legend()\n",
        "ax.yaxis.set_major_locator(MultipleLocator(0.1))\n",
        "ax.grid(True)\n",
        "\n",
        "plt.show()"
      ],
      "execution_count": 13,
      "outputs": [
        {
          "output_type": "display_data",
          "data": {
            "image/png": "[encoded data removed]",
            "text/plain": [
              "<Figure size 432x288 with 1 Axes>"
            ]
          },
          "metadata": {
            "tags": []
          }
        }
      ]
    },
    {
      "cell_type": "code",
      "metadata": {
        "id": "1ZWwrLaWMhtc",
        "colab_type": "code",
        "colab": {
          "base_uri": "https://localhost:8080/",
          "height": 34
        },
        "outputId": "d9076471-37f3-45eb-c6ae-ef0162515beb"
      },
      "source": [
        "weight = model.fc.weight.item()\n",
        "bias = model.fc.bias.item()\n",
        "weight, bias"
      ],
      "execution_count": 14,
      "outputs": [
        {
          "output_type": "execute_result",
          "data": {
            "text/plain": [
              "(0.8273014426231384, 0.17328348755836487)"
            ]
          },
          "metadata": {
            "tags": []
          },
          "execution_count": 14
        }
      ]
    }
  ]
}
