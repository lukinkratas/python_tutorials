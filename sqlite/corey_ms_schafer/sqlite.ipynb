{
 "cells": [
  {
   "cell_type": "markdown",
   "metadata": {},
   "source": [
    "# SQLite  \n",
    "https://youtu.be/pd-0G0MigUA  "
   ]
  },
  {
   "cell_type": "code",
   "execution_count": 1,
   "metadata": {},
   "outputs": [],
   "source": [
    "import sqlite3\n",
    "from employee import Employee"
   ]
  },
  {
   "cell_type": "code",
   "execution_count": 2,
   "metadata": {},
   "outputs": [],
   "source": [
    "# create sql database\n",
    "# conn = sqlite3.connect('employees.db')\n",
    "\n",
    "# store the db in RAM - useful for debugging\n",
    "conn = sqlite3.connect(':memory:')"
   ]
  },
  {
   "cell_type": "code",
   "execution_count": 3,
   "metadata": {},
   "outputs": [],
   "source": [
    "c = conn.cursor()"
   ]
  },
  {
   "cell_type": "code",
   "execution_count": 4,
   "metadata": {},
   "outputs": [
    {
     "data": {
      "text/plain": [
       "<sqlite3.Cursor at 0x1437d23d1f0>"
      ]
     },
     "execution_count": 4,
     "metadata": {},
     "output_type": "execute_result"
    }
   ],
   "source": [
    "c.execute(\"CREATE TABLE employees (first text, last text, pay integer)\")"
   ]
  },
  {
   "cell_type": "code",
   "execution_count": 5,
   "metadata": {},
   "outputs": [
    {
     "data": {
      "text/plain": [
       "<sqlite3.Cursor at 0x1437d23d1f0>"
      ]
     },
     "execution_count": 5,
     "metadata": {},
     "output_type": "execute_result"
    }
   ],
   "source": [
    "c.execute(\"INSERT INTO employees VALUES ('Denver', 'Washington', '10000')\")\n",
    "c.execute(\"INSERT INTO employees VALUES ('Nairobi', 'Washington', '10000')\")\n",
    "\n",
    "c.execute(\"INSERT INTO employees VALUES ('Tokio', 'Nagasaki', '8000')\")\n",
    "c.execute(\"INSERT INTO employees VALUES ('Kyoto', 'Nagasaki', '8000')\")"
   ]
  },
  {
   "cell_type": "code",
   "execution_count": 6,
   "metadata": {},
   "outputs": [
    {
     "name": "stdout",
     "output_type": "stream",
     "text": [
      "('Denver', 'Washington', 10000)\n",
      "[('Denver', 'Washington', 10000), ('Nairobi', 'Washington', 10000)]\n",
      "[('Denver', 'Washington', 10000), ('Nairobi', 'Washington', 10000)]\n"
     ]
    }
   ],
   "source": [
    "c.execute(\"SELECT * FROM employees WHERE last='Washington'\")\n",
    "print(c.fetchone())\n",
    "\n",
    "c.execute(\"SELECT * FROM employees WHERE last='Washington'\")\n",
    "print(c.fetchmany(2))\n",
    "\n",
    "c.execute(\"SELECT * FROM employees WHERE last='Washington'\")\n",
    "print(c.fetchall())"
   ]
  },
  {
   "cell_type": "code",
   "execution_count": 7,
   "metadata": {},
   "outputs": [
    {
     "name": "stdout",
     "output_type": "stream",
     "text": [
      "London\n",
      "Birmingham\n",
      "9000\n"
     ]
    }
   ],
   "source": [
    "emp1 = Employee('London', 'Birmingham', '9000')\n",
    "emp2 = Employee('Perth', 'Birmingham', '7000')\n",
    "\n",
    "print(emp1.first)\n",
    "print(emp1.last)\n",
    "print(emp1.pay)"
   ]
  },
  {
   "cell_type": "code",
   "execution_count": 8,
   "metadata": {},
   "outputs": [
    {
     "data": {
      "text/plain": [
       "<sqlite3.Cursor at 0x1437d23d1f0>"
      ]
     },
     "execution_count": 8,
     "metadata": {},
     "output_type": "execute_result"
    }
   ],
   "source": [
    "c.execute(\"INSERT INTO employees VALUES (?, ?, ?)\", (emp1.first, emp1.last, emp1.pay))\n",
    "# ... VALUES ('{}', '{}', '{}')\".format(emp1.first, emp1.last, emp1.pay)) is not defended against sql injection\n",
    "\n",
    "c.execute(\"INSERT INTO employees VALUES (:first, :last, :pay)\",\n",
    "          {'first': emp2.first, 'last': emp2.last, 'pay': emp2.pay})\n"
   ]
  },
  {
   "cell_type": "code",
   "execution_count": 9,
   "metadata": {},
   "outputs": [
    {
     "name": "stdout",
     "output_type": "stream",
     "text": [
      "[('London', 'Birmingham', 9000), ('Perth', 'Birmingham', 7000)]\n",
      "[('London', 'Birmingham', 9000), ('Perth', 'Birmingham', 7000)]\n"
     ]
    }
   ],
   "source": [
    "c.execute(\"SELECT * FROM employees WHERE last=?\", ('Birmingham',))\n",
    "print(c.fetchall())\n",
    "\n",
    "c.execute(\"SELECT * FROM employees WHERE last=:last\", {'last': 'Birmingham'})\n",
    "print(c.fetchall())"
   ]
  },
  {
   "cell_type": "code",
   "execution_count": 10,
   "metadata": {},
   "outputs": [],
   "source": [
    "def insert_emp(emp):\n",
    "    with conn:\n",
    "        c.execute(\"INSERT INTO employees VALUES (:first, :last, :pay)\",\n",
    "                  {'first': emp.first, 'last': emp.last, 'pay': emp.pay})\n",
    "\n",
    "def get_emps_by_name(lastname):\n",
    "    c.execute(\"SELECT * FROM employees WHERE last=:last\", {'last': lastname})\n",
    "    return c.fetchall()\n",
    "\n",
    "def update_pay(emp, pay):\n",
    "    with conn:\n",
    "        c.execute(\"\"\"UPDATE employees SET pay = :pay\n",
    "                    WHERE first = :first AND last = :last\"\"\",\n",
    "                  {'first': emp.first, 'last': emp.last, 'pay': pay})\n",
    "\n",
    "def remove_emp(emp):\n",
    "    with conn:\n",
    "        c.execute(\"DELETE from employees WHERE first = :first AND last = :last\",\n",
    "                  {'first': emp.first, 'last': emp.last})"
   ]
  },
  {
   "cell_type": "code",
   "execution_count": 11,
   "metadata": {},
   "outputs": [],
   "source": [
    "emp1 = Employee('Sydney', 'Brisbane', 5000)\n",
    "emp2 = Employee('Canberra', 'Brisbane', 4000)"
   ]
  },
  {
   "cell_type": "code",
   "execution_count": 12,
   "metadata": {},
   "outputs": [],
   "source": [
    "insert_emp(emp1)\n",
    "insert_emp(emp2)"
   ]
  },
  {
   "cell_type": "code",
   "execution_count": 13,
   "metadata": {},
   "outputs": [
    {
     "name": "stdout",
     "output_type": "stream",
     "text": [
      "[('Sydney', 'Brisbane', 5000), ('Canberra', 'Brisbane', 4000)]\n",
      "[('Canberra', 'Brisbane', 5000)]\n"
     ]
    }
   ],
   "source": [
    "emps = get_emps_by_name('Brisbane')\n",
    "print(emps)\n",
    "\n",
    "update_pay(emp2, 5000)\n",
    "remove_emp(emp1)\n",
    "emps = get_emps_by_name('Brisbane')\n",
    "print(emps)"
   ]
  },
  {
   "cell_type": "code",
   "execution_count": 14,
   "metadata": {},
   "outputs": [],
   "source": [
    "conn.close()"
   ]
  }
 ],
 "metadata": {
  "kernelspec": {
   "display_name": "Python 3",
   "language": "python",
   "name": "python3"
  },
  "language_info": {
   "codemirror_mode": {
    "name": "ipython",
    "version": 3
   },
   "file_extension": ".py",
   "mimetype": "text/x-python",
   "name": "python",
   "nbconvert_exporter": "python",
   "pygments_lexer": "ipython3",
   "version": "3.6.5"
  }
 },
 "nbformat": 4,
 "nbformat_minor": 2
}
