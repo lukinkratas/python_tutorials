{
 "cells": [
  {
   "cell_type": "markdown",
   "metadata": {},
   "source": [
    "# Strings  \n",
    "https://youtu.be/F2x20Ks4M8U"
   ]
  },
  {
   "cell_type": "code",
   "execution_count": 1,
   "metadata": {},
   "outputs": [
    {
     "name": "stdout",
     "output_type": "stream",
     "text": [
      "i wanna fork on the table. i wanna sheet on my bed.\n",
      "I WANNA FORK ON THE TABLE. I WANNA SHEET ON MY BED.\n",
      "I wanna fork on the table. i wanna sheet on my bed.\n",
      "i WANNA fork ON THE TABLE. i WANNA sheet ON MY BED.\n",
      "I Wanna Fork On The Table. I Wanna Sheet On My Bed.\n"
     ]
    }
   ],
   "source": [
    "s = 'I wanna FORK on the table. I wanna SHEET on my bed.'\n",
    "\n",
    "print(s.lower())\n",
    "print(s.upper())\n",
    "print(s.capitalize())\n",
    "print(s.swapcase())\n",
    "print(s.title())"
   ]
  },
  {
   "cell_type": "code",
   "execution_count": 2,
   "metadata": {},
   "outputs": [
    {
     "name": "stdout",
     "output_type": "stream",
     "text": [
      "0\n",
      "27\n",
      "-1\n",
      "\n",
      "2\n",
      "29\n"
     ]
    },
    {
     "ename": "ValueError",
     "evalue": "substring not found",
     "output_type": "error",
     "traceback": [
      "\u001b[1;31m---------------------------------------------------------------------------\u001b[0m",
      "\u001b[1;31mValueError\u001b[0m                                Traceback (most recent call last)",
      "\u001b[1;32m<ipython-input-2-235672a31295>\u001b[0m in \u001b[0;36m<module>\u001b[1;34m\u001b[0m\n\u001b[0;32m      8\u001b[0m \u001b[0mprint\u001b[0m\u001b[1;33m(\u001b[0m\u001b[0ms\u001b[0m\u001b[1;33m.\u001b[0m\u001b[0mindex\u001b[0m\u001b[1;33m(\u001b[0m\u001b[1;34m'wanna'\u001b[0m\u001b[1;33m)\u001b[0m\u001b[1;33m)\u001b[0m\u001b[1;33m\u001b[0m\u001b[1;33m\u001b[0m\u001b[0m\n\u001b[0;32m      9\u001b[0m \u001b[0mprint\u001b[0m\u001b[1;33m(\u001b[0m\u001b[0ms\u001b[0m\u001b[1;33m.\u001b[0m\u001b[0mrindex\u001b[0m\u001b[1;33m(\u001b[0m\u001b[1;34m'wanna'\u001b[0m\u001b[1;33m)\u001b[0m\u001b[1;33m)\u001b[0m\u001b[1;33m\u001b[0m\u001b[1;33m\u001b[0m\u001b[0m\n\u001b[1;32m---> 10\u001b[1;33m \u001b[0mprint\u001b[0m\u001b[1;33m(\u001b[0m\u001b[0ms\u001b[0m\u001b[1;33m.\u001b[0m\u001b[0mindex\u001b[0m\u001b[1;33m(\u001b[0m\u001b[1;34m'fok'\u001b[0m\u001b[1;33m)\u001b[0m\u001b[1;33m)\u001b[0m \u001b[1;31m# fails\u001b[0m\u001b[1;33m\u001b[0m\u001b[1;33m\u001b[0m\u001b[0m\n\u001b[0m",
      "\u001b[1;31mValueError\u001b[0m: substring not found"
     ]
    }
   ],
   "source": [
    "s = 'I wanna FORK on the table. I wanna SHEET on my bed.'\n",
    "\n",
    "print(s.find('I'))\n",
    "print(s.rfind('I'))\n",
    "print(s.find('fok')) # -1 == does not exist\n",
    "print()\n",
    "\n",
    "print(s.index('wanna'))\n",
    "print(s.rindex('wanna'))\n",
    "print(s.index('fok')) # fails"
   ]
  },
  {
   "cell_type": "code",
   "execution_count": 3,
   "metadata": {},
   "outputs": [
    {
     "name": "stdout",
     "output_type": "stream",
     "text": [
      "5\n",
      "True\n",
      "False\n",
      "False\n"
     ]
    }
   ],
   "source": [
    "s = 'I wanna FORK on the table. I wanna SHEET on my bed.'\n",
    "\n",
    "print(s.count('a'))\n",
    "print(s.endswith('bed.'))\n",
    "print(s.startswith('U'))\n",
    "print('fork' in s)"
   ]
  },
  {
   "cell_type": "code",
   "execution_count": 4,
   "metadata": {},
   "outputs": [
    {
     "name": "stdout",
     "output_type": "stream",
     "text": [
      "True\n",
      "True\n",
      "\n",
      "False\n",
      "True\n",
      "\n",
      "True\n",
      "True\n"
     ]
    }
   ],
   "source": [
    "print('123'.isalnum())\n",
    "print('123xxx'.isalnum())\n",
    "print()\n",
    "\n",
    "print('123xxx'.isalpha())\n",
    "print('xxxXXX'.isalpha())\n",
    "print()\n",
    "\n",
    "print('123xxx'.isascii())\n",
    "print('xxxXXX'.isascii())\n",
    "\n",
    "# others:\n",
    "# isdecimal, isnumeric, isdigit, isspace, islower, isupper, istitle,"
   ]
  },
  {
   "cell_type": "code",
   "execution_count": 5,
   "metadata": {},
   "outputs": [
    {
     "name": "stdout",
     "output_type": "stream",
     "text": [
      "************************I wanna FORK on the table. I wanna SHEET on my bed.*************************\n",
      "I wanna FORK on the table. I wanna SHEET on my bed.*************************************************\n",
      "*************************************************I wanna FORK on the table. I wanna SHEET on my bed.\n"
     ]
    }
   ],
   "source": [
    "s = 'I wanna FORK on the table. I wanna SHEET on my bed.'\n",
    "\n",
    "print(s.center(100, '*'))\n",
    "print(s.ljust(100, '*'))\n",
    "print(s.rjust(100, '*'))"
   ]
  },
  {
   "cell_type": "code",
   "execution_count": 6,
   "metadata": {},
   "outputs": [
    {
     "name": "stdout",
     "output_type": "stream",
     "text": [
      "('I', ' ', 'wanna FORK on the table. I wanna SHEET on my bed.')\n",
      "('I ', 'wanna', ' FORK on the table. I wanna SHEET on my bed.')\n",
      "('I wanna FORK on the table. ', 'I', ' wanna SHEET on my bed.')\n"
     ]
    }
   ],
   "source": [
    "s = 'I wanna FORK on the table. I wanna SHEET on my bed.'\n",
    "\n",
    "print(s.partition(' '))\n",
    "print(s.partition('wanna'))\n",
    "print(s.rpartition('I'))"
   ]
  },
  {
   "cell_type": "code",
   "execution_count": 7,
   "metadata": {},
   "outputs": [
    {
     "name": "stdout",
     "output_type": "stream",
     "text": [
      "xxx---xxx---xxx\n",
      "xxx---xxx---xxx---\n",
      "---xxx---xxx---xxx\n",
      "\n",
      "xxx   xxx   xxx\n"
     ]
    }
   ],
   "source": [
    "s = '---xxx---xxx---xxx---'\n",
    "print(s.strip('-'))\n",
    "print(s.lstrip('-'))\n",
    "print(s.rstrip('-'))\n",
    "print()\n",
    "\n",
    "s = '   xxx   xxx   xxx   '\n",
    "print(s.strip())"
   ]
  },
  {
   "cell_type": "code",
   "execution_count": 8,
   "metadata": {},
   "outputs": [
    {
     "name": "stdout",
     "output_type": "stream",
     "text": [
      "['I', 'wanna', 'FORK', 'on', 'the', 'table.', 'I', 'wanna', 'SHEET', 'on', 'my', 'bed.']\n",
      "\n",
      "['', '', '', 'xxx', '', '', 'xxx', '', '', 'xxx', '', '', '']\n",
      "\n",
      "['xxx', 'xxx', 'xxx']\n",
      "['', '', '', 'xxx', '', '', 'xxx', '', '', 'xxx', '', '', '']\n"
     ]
    }
   ],
   "source": [
    "s = 'I wanna FORK on the table. I wanna SHEET on my bed.'\n",
    "print(s.split())\n",
    "print()\n",
    "\n",
    "s = '---xxx---xxx---xxx---'\n",
    "print(s.split('-'))\n",
    "print()\n",
    "\n",
    "s = '   xxx   xxx   xxx   '\n",
    "print(s.split())\n",
    "print(s.split(' '))"
   ]
  },
  {
   "cell_type": "code",
   "execution_count": 9,
   "metadata": {},
   "outputs": [
    {
     "name": "stdout",
     "output_type": "stream",
     "text": [
      "['I wanna FORK on the table.', 'I wanna SHEET on my bed.']\n"
     ]
    }
   ],
   "source": [
    "s = '''I wanna FORK on the table.\n",
    "I wanna SHEET on my bed.'''\n",
    "\n",
    "print(s.splitlines())"
   ]
  },
  {
   "cell_type": "code",
   "execution_count": 10,
   "metadata": {},
   "outputs": [
    {
     "name": "stdout",
     "output_type": "stream",
     "text": [
      "['I', ' ', 'w', 'a', 'n', 'n', 'a', ' ', 'F', 'O', 'R', 'K', ' ', 'o', 'n', ' ', 't', 'h', 'e', ' ', 't', 'a', 'b', 'l', 'e', '.', ' ', 'I', ' ', 'w', 'a', 'n', 'n', 'a', ' ', 'S', 'H', 'E', 'E', 'T', ' ', 'o', 'n', ' ', 'm', 'y', ' ', 'b', 'e', 'd', '.']\n",
      "\n",
      "I wanna\n",
      "FORK \n",
      ".deb ym no TEEHS annaw I .elbat eht no KROF annaw I\n",
      "\n",
      "---I wanna FORK on the table. I wanna SHEET on my bed.---\n",
      "---I wanna FORK on the table. I wanna SHEET on my bed.---\n",
      "---I wanna FORK on the table. I wanna SHEET on my bed.---\n",
      "\n"
     ]
    }
   ],
   "source": [
    "s = 'I wanna FORK on the table. I wanna SHEET on my bed.'\n",
    "\n",
    "print(list(s))\n",
    "print()\n",
    "\n",
    "print(s[:7])\n",
    "print(s[8:13])\n",
    "# backwards:\n",
    "print(s[::-1])\n",
    "print()\n",
    "\n",
    "print(3*f'---{s}---\\n')"
   ]
  },
  {
   "cell_type": "code",
   "execution_count": 11,
   "metadata": {},
   "outputs": [
    {
     "name": "stdout",
     "output_type": "stream",
     "text": [
      "000011\n",
      "000xxx\n"
     ]
    }
   ],
   "source": [
    "s = '11'\n",
    "print(s.zfill(6))\n",
    "\n",
    "s = 'xxx'\n",
    "print(s.zfill(6))"
   ]
  },
  {
   "cell_type": "code",
   "execution_count": 12,
   "metadata": {},
   "outputs": [
    {
     "name": "stdout",
     "output_type": "stream",
     "text": [
      "10000000000\n",
      "1000000\n",
      "10001000000\n",
      "10,001,000,000\n"
     ]
    }
   ],
   "source": [
    "n = 10_000_000_000 # readable\n",
    "m = 1_000_000\n",
    "print(n)\n",
    "print(m)\n",
    "sum = n + m\n",
    "print (sum) # NOT readable\n",
    "print (f'{sum:,}') # readable"
   ]
  },
  {
   "cell_type": "code",
   "execution_count": 13,
   "metadata": {},
   "outputs": [
    {
     "name": "stdout",
     "output_type": "stream",
     "text": [
      "a\tb\tc\n",
      "a\t23\tc\n"
     ]
    },
    {
     "ename": "TypeError",
     "evalue": "sequence item 1: expected str instance, int found",
     "output_type": "error",
     "traceback": [
      "\u001b[1;31m---------------------------------------------------------------------------\u001b[0m",
      "\u001b[1;31mTypeError\u001b[0m                                 Traceback (most recent call last)",
      "\u001b[1;32m<ipython-input-13-9656a0ade7b8>\u001b[0m in \u001b[0;36m<module>\u001b[1;34m\u001b[0m\n\u001b[0;32m      7\u001b[0m \u001b[1;33m\u001b[0m\u001b[0m\n\u001b[0;32m      8\u001b[0m \u001b[0ml\u001b[0m \u001b[1;33m=\u001b[0m \u001b[1;33m[\u001b[0m\u001b[1;34m'a'\u001b[0m\u001b[1;33m,\u001b[0m \u001b[1;36m23\u001b[0m\u001b[1;33m,\u001b[0m \u001b[1;34m'c'\u001b[0m\u001b[1;33m]\u001b[0m \u001b[1;31m# fails\u001b[0m\u001b[1;33m\u001b[0m\u001b[1;33m\u001b[0m\u001b[0m\n\u001b[1;32m----> 9\u001b[1;33m \u001b[0mprint\u001b[0m\u001b[1;33m(\u001b[0m\u001b[1;34m'\\t'\u001b[0m\u001b[1;33m.\u001b[0m\u001b[0mjoin\u001b[0m\u001b[1;33m(\u001b[0m\u001b[0ml\u001b[0m\u001b[1;33m)\u001b[0m\u001b[1;33m)\u001b[0m\u001b[1;33m\u001b[0m\u001b[1;33m\u001b[0m\u001b[0m\n\u001b[0m",
      "\u001b[1;31mTypeError\u001b[0m: sequence item 1: expected str instance, int found"
     ]
    }
   ],
   "source": [
    "# join:\n",
    "l = ['a', 'b', 'c']\n",
    "print('\\t'.join(l))\n",
    "\n",
    "l = ['a', str(23), 'c']\n",
    "print('\\t'.join(l))\n",
    "\n",
    "l = ['a', 23, 'c'] # fails\n",
    "print('\\t'.join(l))"
   ]
  }
 ],
 "metadata": {
  "kernelspec": {
   "display_name": "Python 3",
   "language": "python",
   "name": "python3"
  },
  "language_info": {
   "codemirror_mode": {
    "name": "ipython",
    "version": 3
   },
   "file_extension": ".py",
   "mimetype": "text/x-python",
   "name": "python",
   "nbconvert_exporter": "python",
   "pygments_lexer": "ipython3",
   "version": "3.7.4"
  }
 },
 "nbformat": 4,
 "nbformat_minor": 2
}
