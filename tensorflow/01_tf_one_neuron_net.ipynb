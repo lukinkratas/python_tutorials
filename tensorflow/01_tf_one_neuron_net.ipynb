{
  "nbformat": 4,
  "nbformat_minor": 0,
  "metadata": {
    "colab": {
      "name": "01_tfOneNeuronNet.ipynb",
      "provenance": [],
      "collapsed_sections": []
    },
    "kernelspec": {
      "display_name": "Python 3",
      "language": "python",
      "name": "python3"
    },
    "language_info": {
      "codemirror_mode": {
        "name": "ipython",
        "version": 3
      },
      "file_extension": ".py",
      "mimetype": "text/x-python",
      "name": "python",
      "nbconvert_exporter": "python",
      "pygments_lexer": "ipython3",
      "version": "3.6.5"
    }
  },
  "cells": [
    {
      "cell_type": "markdown",
      "metadata": {
        "colab_type": "text",
        "id": "-0YanepKxLaQ"
      },
      "source": [
        "One neuron net, that finds solution for line (linear equation):  \n",
        "$$y=2x+1$$  \n",
        "\n",
        "inputs: -5, -4, -3, -2, -1, 0, 1, 2, 3, 4, 5  \n",
        "outputs: -9, -7, -5, -3, -1, 1, 3, 5, 7, 9, 11"
      ]
    },
    {
      "cell_type": "code",
      "metadata": {
        "colab_type": "code",
        "id": "e40pSy-EnGY-",
        "colab": {}
      },
      "source": [
        "# only for the case, when you execute it in google colab:\n",
        "# !pip uninstall tensorflow\n",
        "# !pip install tensorflow-gpu"
      ],
      "execution_count": 0,
      "outputs": []
    },
    {
      "cell_type": "code",
      "metadata": {
        "colab_type": "code",
        "id": "yZ0k1_nTnrvm",
        "outputId": "3f822af1-1e42-4650-9907-1ffbebb870be",
        "colab": {
          "base_uri": "https://localhost:8080/",
          "height": 34
        }
      },
      "source": [
        "import tensorflow as tf\n",
        "\n",
        "from matplotlib import pyplot as plt\n",
        "from matplotlib.ticker import AutoMinorLocator, MultipleLocator\n",
        "\n",
        "print(tf.__version__)"
      ],
      "execution_count": 2,
      "outputs": [
        {
          "output_type": "stream",
          "text": [
            "2.0.0\n"
          ],
          "name": "stdout"
        }
      ]
    },
    {
      "cell_type": "code",
      "metadata": {
        "colab_type": "code",
        "id": "OXfE7sC1F11I",
        "outputId": "1a8d3490-8563-4820-bc1a-68a60a4df8fe",
        "colab": {
          "base_uri": "https://localhost:8080/",
          "height": 425
        }
      },
      "source": [
        "inputs = tf.constant([[-5.], [-4.], [-3.], [-2.], [-1.], [0.], [1.], [2.], [3.], [4.], [5.]], dtype=tf.float32)\n",
        "outputs = tf.add(tf.multiply(inputs, 2), 1)\n",
        "inputs, outputs"
      ],
      "execution_count": 3,
      "outputs": [
        {
          "output_type": "execute_result",
          "data": {
            "text/plain": [
              "(<tf.Tensor: id=0, shape=(11, 1), dtype=float32, numpy=\n",
              " array([[-5.],\n",
              "        [-4.],\n",
              "        [-3.],\n",
              "        [-2.],\n",
              "        [-1.],\n",
              "        [ 0.],\n",
              "        [ 1.],\n",
              "        [ 2.],\n",
              "        [ 3.],\n",
              "        [ 4.],\n",
              "        [ 5.]], dtype=float32)>,\n",
              " <tf.Tensor: id=4, shape=(11, 1), dtype=float32, numpy=\n",
              " array([[-9.],\n",
              "        [-7.],\n",
              "        [-5.],\n",
              "        [-3.],\n",
              "        [-1.],\n",
              "        [ 1.],\n",
              "        [ 3.],\n",
              "        [ 5.],\n",
              "        [ 7.],\n",
              "        [ 9.],\n",
              "        [11.]], dtype=float32)>)"
            ]
          },
          "metadata": {
            "tags": []
          },
          "execution_count": 3
        }
      ]
    },
    {
      "cell_type": "code",
      "metadata": {
        "id": "PQyWRFqF5SMs",
        "colab_type": "code",
        "outputId": "47f1f1d9-4cd0-4d3e-d90f-20fc9ab92a21",
        "colab": {
          "base_uri": "https://localhost:8080/",
          "height": 295
        }
      },
      "source": [
        "fig, ax = plt.subplots()\n",
        "\n",
        "ax.plot(inputs, outputs, marker='o', label='$y=2x+1$')\n",
        "\n",
        "ax.set_title('Data')\n",
        "ax.set_xlabel('x')\n",
        "ax.set_ylabel('y')\n",
        "\n",
        "ax.yaxis.set_major_locator(MultipleLocator(1.0))\n",
        "ax.legend()\n",
        "ax.grid(True)\n",
        "\n",
        "plt.show()"
      ],
      "execution_count": 4,
      "outputs": [
        {
          "output_type": "display_data",
          "data": {
            "image/png": "[encoded data removed]",
            "text/plain": [
              "<Figure size 432x288 with 1 Axes>"
            ]
          },
          "metadata": {
            "tags": []
          }
        }
      ]
    },
    {
      "cell_type": "markdown",
      "metadata": {
        "id": "4BW0V7XHYUJ-",
        "colab_type": "text"
      },
      "source": [
        "Data have to be normalized to be in range from 0 to 1, otherwise the negative value will cause untrainable weight with combination with ReLU activation function:  \n",
        "*Normalization equation for each element x from tensot t:*  \n",
        "$$\\frac{x-t_{min}}{t_{max}-t_{min}}$$\n",
        "\n",
        "With normalization the line equations becomes:  \n",
        "$$y=1x+0$$  \n",
        "*1 = expected weight*  \n",
        "*0 = expected bias*  "
      ]
    },
    {
      "cell_type": "code",
      "metadata": {
        "id": "QBnYJNXYQZCm",
        "colab_type": "code",
        "colab": {}
      },
      "source": [
        "def normalize(tensor):\n",
        "    '''normalize each element x from tensor to be between 0 and 1: (x-min)/(max-min)'''\n",
        "    max = tf.reduce_max(tensor)\n",
        "    min = tf.reduce_min(tensor)\n",
        "\n",
        "    normed_tensor = tf.divide(tf.subtract(tensor, min), max-min)\n",
        "\n",
        "    return normed_tensor"
      ],
      "execution_count": 0,
      "outputs": []
    },
    {
      "cell_type": "code",
      "metadata": {
        "id": "FJP-kLwBYG5X",
        "colab_type": "code",
        "outputId": "e2029650-f429-482f-8de7-91e92a3afca1",
        "colab": {
          "base_uri": "https://localhost:8080/",
          "height": 425
        }
      },
      "source": [
        "inputs_normed = normalize(inputs)\n",
        "outputs_normed = normalize(outputs)\n",
        "inputs_normed, outputs_normed"
      ],
      "execution_count": 6,
      "outputs": [
        {
          "output_type": "execute_result",
          "data": {
            "text/plain": [
              "(<tf.Tensor: id=59, shape=(11, 1), dtype=float32, numpy=\n",
              " array([[0. ],\n",
              "        [0.1],\n",
              "        [0.2],\n",
              "        [0.3],\n",
              "        [0.4],\n",
              "        [0.5],\n",
              "        [0.6],\n",
              "        [0.7],\n",
              "        [0.8],\n",
              "        [0.9],\n",
              "        [1. ]], dtype=float32)>,\n",
              " <tf.Tensor: id=66, shape=(11, 1), dtype=float32, numpy=\n",
              " array([[0. ],\n",
              "        [0.1],\n",
              "        [0.2],\n",
              "        [0.3],\n",
              "        [0.4],\n",
              "        [0.5],\n",
              "        [0.6],\n",
              "        [0.7],\n",
              "        [0.8],\n",
              "        [0.9],\n",
              "        [1. ]], dtype=float32)>)"
            ]
          },
          "metadata": {
            "tags": []
          },
          "execution_count": 6
        }
      ]
    },
    {
      "cell_type": "code",
      "metadata": {
        "colab_type": "code",
        "id": "WN2B0TwyoOzG",
        "outputId": "2704005e-f185-420b-ff74-80f637642c11",
        "colab": {
          "base_uri": "https://localhost:8080/",
          "height": 238
        }
      },
      "source": [
        "training_inputs, test_inputs = tf.split(inputs_normed, [7,4], 0)\n",
        "training_inputs, test_inputs"
      ],
      "execution_count": 7,
      "outputs": [
        {
          "output_type": "execute_result",
          "data": {
            "text/plain": [
              "(<tf.Tensor: id=69, shape=(7, 1), dtype=float32, numpy=\n",
              " array([[0. ],\n",
              "        [0.1],\n",
              "        [0.2],\n",
              "        [0.3],\n",
              "        [0.4],\n",
              "        [0.5],\n",
              "        [0.6]], dtype=float32)>,\n",
              " <tf.Tensor: id=70, shape=(4, 1), dtype=float32, numpy=\n",
              " array([[0.7],\n",
              "        [0.8],\n",
              "        [0.9],\n",
              "        [1. ]], dtype=float32)>)"
            ]
          },
          "metadata": {
            "tags": []
          },
          "execution_count": 7
        }
      ]
    },
    {
      "cell_type": "code",
      "metadata": {
        "colab_type": "code",
        "id": "VZMJJZb-JJaP",
        "outputId": "58657498-bfa2-403b-e425-50a459e56ce1",
        "colab": {
          "base_uri": "https://localhost:8080/",
          "height": 238
        }
      },
      "source": [
        "training_outputs, test_outputs = tf.split(outputs_normed, [7,4], 0)\n",
        "training_outputs, test_outputs"
      ],
      "execution_count": 8,
      "outputs": [
        {
          "output_type": "execute_result",
          "data": {
            "text/plain": [
              "(<tf.Tensor: id=73, shape=(7, 1), dtype=float32, numpy=\n",
              " array([[0. ],\n",
              "        [0.1],\n",
              "        [0.2],\n",
              "        [0.3],\n",
              "        [0.4],\n",
              "        [0.5],\n",
              "        [0.6]], dtype=float32)>,\n",
              " <tf.Tensor: id=74, shape=(4, 1), dtype=float32, numpy=\n",
              " array([[0.7],\n",
              "        [0.8],\n",
              "        [0.9],\n",
              "        [1. ]], dtype=float32)>)"
            ]
          },
          "metadata": {
            "tags": []
          },
          "execution_count": 8
        }
      ]
    },
    {
      "cell_type": "code",
      "metadata": {
        "colab_type": "code",
        "id": "sCuFeVXd_NzX",
        "outputId": "2d032f41-5069-4eb2-c608-5b6d92a82415",
        "colab": {
          "base_uri": "https://localhost:8080/",
          "height": 295
        }
      },
      "source": [
        "fig, ax = plt.subplots()\n",
        "\n",
        "ax.plot(training_inputs, training_outputs, marker='o', linestyle='', label='Training data')\n",
        "ax.plot(test_inputs, test_outputs, marker='o', linestyle='', label='Test data')\n",
        "\n",
        "ax.set_title('Normalized data')\n",
        "ax.set_xlabel('x')\n",
        "ax.set_ylabel('y')\n",
        "\n",
        "ax.yaxis.set_major_locator(MultipleLocator(0.1))\n",
        "ax.legend()\n",
        "ax.grid(True)\n",
        "\n",
        "plt.show()"
      ],
      "execution_count": 9,
      "outputs": [
        {
          "output_type": "display_data",
          "data": {
            "image/png": "[encoded data removed]",
            "text/plain": [
              "<Figure size 432x288 with 1 Axes>"
            ]
          },
          "metadata": {
            "tags": []
          }
        }
      ]
    },
    {
      "cell_type": "markdown",
      "metadata": {
        "id": "_FFEI-UTYilj",
        "colab_type": "text"
      },
      "source": [
        "1 fully connected (dense) layer with 1 input  \n",
        "optimizer: Stochastic gradient descent  \n",
        "loss function: Mean squared error https://en.wikipedia.org/wiki/Mean_squared_error  \n",
        "$$\\frac{1}{n}\\sum_{i=1}^n (x_i-\\overline{x_i})^2$$  \n"
      ]
    },
    {
      "cell_type": "code",
      "metadata": {
        "colab_type": "code",
        "id": "P95D8Q9DpUcd",
        "colab": {}
      },
      "source": [
        "model = tf.keras.Sequential([\n",
        "    tf.keras.layers.Dense(1, activation='relu'),\n",
        "])"
      ],
      "execution_count": 0,
      "outputs": []
    },
    {
      "cell_type": "code",
      "metadata": {
        "colab_type": "code",
        "id": "-kwCJ_5cpgwF",
        "colab": {}
      },
      "source": [
        "optimizer = tf.keras.optimizers.SGD(learning_rate=0.01)\n",
        "\n",
        "model.compile(optimizer=optimizer,\n",
        "              loss='MSE',\n",
        "              metrics=['accuracy'])"
      ],
      "execution_count": 0,
      "outputs": []
    },
    {
      "cell_type": "code",
      "metadata": {
        "colab_type": "code",
        "id": "ToIERqbmpjTV",
        "outputId": "2bbcee52-48d5-4de1-ef55-dbc339ba5b02",
        "colab": {
          "base_uri": "https://localhost:8080/",
          "height": 391
        }
      },
      "source": [
        "model.fit(training_inputs, training_outputs, epochs=10)"
      ],
      "execution_count": 12,
      "outputs": [
        {
          "output_type": "stream",
          "text": [
            "Train on 7 samples\n",
            "Epoch 1/10\n",
            "7/7 [==============================] - 0s 59ms/sample - loss: 0.0020 - accuracy: 0.1429\n",
            "Epoch 2/10\n",
            "7/7 [==============================] - 0s 827us/sample - loss: 0.0019 - accuracy: 0.1429\n",
            "Epoch 3/10\n",
            "7/7 [==============================] - 0s 369us/sample - loss: 0.0018 - accuracy: 0.1429\n",
            "Epoch 4/10\n",
            "7/7 [==============================] - 0s 421us/sample - loss: 0.0018 - accuracy: 0.1429\n",
            "Epoch 5/10\n",
            "7/7 [==============================] - 0s 642us/sample - loss: 0.0017 - accuracy: 0.1429\n",
            "Epoch 6/10\n",
            "7/7 [==============================] - 0s 428us/sample - loss: 0.0017 - accuracy: 0.1429\n",
            "Epoch 7/10\n",
            "7/7 [==============================] - 0s 413us/sample - loss: 0.0016 - accuracy: 0.1429\n",
            "Epoch 8/10\n",
            "7/7 [==============================] - 0s 395us/sample - loss: 0.0016 - accuracy: 0.1429\n",
            "Epoch 9/10\n",
            "7/7 [==============================] - 0s 382us/sample - loss: 0.0015 - accuracy: 0.1429\n",
            "Epoch 10/10\n",
            "7/7 [==============================] - 0s 664us/sample - loss: 0.0015 - accuracy: 0.1429\n"
          ],
          "name": "stdout"
        },
        {
          "output_type": "execute_result",
          "data": {
            "text/plain": [
              "<tensorflow.python.keras.callbacks.History at 0x7f1755db40f0>"
            ]
          },
          "metadata": {
            "tags": []
          },
          "execution_count": 12
        }
      ]
    },
    {
      "cell_type": "code",
      "metadata": {
        "id": "3moowO8RJyX7",
        "colab_type": "code",
        "outputId": "d5170204-419b-4289-87f6-c6fd1e46ad89",
        "colab": {
          "base_uri": "https://localhost:8080/",
          "height": 187
        }
      },
      "source": [
        "model.summary()"
      ],
      "execution_count": 13,
      "outputs": [
        {
          "output_type": "stream",
          "text": [
            "Model: \"sequential\"\n",
            "_________________________________________________________________\n",
            "Layer (type)                 Output Shape              Param #   \n",
            "=================================================================\n",
            "dense (Dense)                multiple                  2         \n",
            "=================================================================\n",
            "Total params: 2\n",
            "Trainable params: 2\n",
            "Non-trainable params: 0\n",
            "_________________________________________________________________\n"
          ],
          "name": "stdout"
        }
      ]
    },
    {
      "cell_type": "code",
      "metadata": {
        "colab_type": "code",
        "id": "IevdmYnwpmyS",
        "outputId": "92ae6efb-65cb-4200-aaa2-1dc600156925",
        "colab": {
          "base_uri": "https://localhost:8080/",
          "height": 85
        }
      },
      "source": [
        "predictions = model.predict(test_inputs)\n",
        "predictions"
      ],
      "execution_count": 14,
      "outputs": [
        {
          "output_type": "execute_result",
          "data": {
            "text/plain": [
              "array([[0.7772765],\n",
              "       [0.8892815],\n",
              "       [1.0012865],\n",
              "       [1.1132915]], dtype=float32)"
            ]
          },
          "metadata": {
            "tags": []
          },
          "execution_count": 14
        }
      ]
    },
    {
      "cell_type": "code",
      "metadata": {
        "colab_type": "code",
        "id": "5n3nXh-LAd3A",
        "outputId": "92e305b7-0eae-4b72-a5b9-f4c458f85063",
        "colab": {
          "base_uri": "https://localhost:8080/",
          "height": 279
        }
      },
      "source": [
        "fig, ax = plt.subplots()\n",
        "\n",
        "ax.plot(test_inputs, test_outputs, marker='o', label='Test data')\n",
        "ax.plot(test_inputs, predictions, marker='o', label='Predictions')\n",
        "\n",
        "ax.set_xlabel('x')\n",
        "ax.set_ylabel('y')\n",
        "\n",
        "ax.legend()\n",
        "ax.yaxis.set_major_locator(MultipleLocator(0.1))\n",
        "ax.grid(True)\n",
        "\n",
        "plt.show()"
      ],
      "execution_count": 15,
      "outputs": [
        {
          "output_type": "display_data",
          "data": {
            "image/png": "[encoded data removed]",
            "text/plain": [
              "<Figure size 432x288 with 1 Axes>"
            ]
          },
          "metadata": {
            "tags": []
          }
        }
      ]
    },
    {
      "cell_type": "code",
      "metadata": {
        "colab_type": "code",
        "id": "BoFTESyZq-xz",
        "outputId": "ea1c5c92-319a-4e30-f4a1-5b4132c6d917",
        "colab": {
          "base_uri": "https://localhost:8080/",
          "height": 34
        }
      },
      "source": [
        "params = model.get_weights()\n",
        "params"
      ],
      "execution_count": 16,
      "outputs": [
        {
          "output_type": "execute_result",
          "data": {
            "text/plain": [
              "[array([[1.1200497]], dtype=float32), array([-0.00675827], dtype=float32)]"
            ]
          },
          "metadata": {
            "tags": []
          },
          "execution_count": 16
        }
      ]
    },
    {
      "cell_type": "code",
      "metadata": {
        "id": "b7nFIAk7JyYH",
        "colab_type": "code",
        "outputId": "422b8249-0f3c-493f-8709-846f355d4d6d",
        "colab": {
          "base_uri": "https://localhost:8080/",
          "height": 51
        }
      },
      "source": [
        "weight, bias = params\n",
        "weight = tf.squeeze(weight)\n",
        "bias = tf.squeeze(bias)\n",
        "weight, bias"
      ],
      "execution_count": 17,
      "outputs": [
        {
          "output_type": "execute_result",
          "data": {
            "text/plain": [
              "(<tf.Tensor: id=839, shape=(), dtype=float32, numpy=1.1200497>,\n",
              " <tf.Tensor: id=841, shape=(), dtype=float32, numpy=-0.00675827>)"
            ]
          },
          "metadata": {
            "tags": []
          },
          "execution_count": 17
        }
      ]
    }
  ]
}
