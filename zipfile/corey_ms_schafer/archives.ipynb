{
 "cells": [
  {
   "cell_type": "markdown",
   "metadata": {},
   "source": [
    "# Archives  \n",
    "for handling archived files  \n",
    "https://youtu.be/z0gguhEmWiY"
   ]
  },
  {
   "cell_type": "code",
   "execution_count": 1,
   "metadata": {},
   "outputs": [],
   "source": [
    "import zipfile"
   ]
  },
  {
   "cell_type": "code",
   "execution_count": 2,
   "metadata": {},
   "outputs": [],
   "source": [
    "zip = zipfile.ZipFile('files.zip', 'w')\n",
    "zip.write('xxx.txt')\n",
    "zip.write('yyy.txt')\n",
    "zip.write('zzz.txt')\n",
    "zip.close()"
   ]
  },
  {
   "cell_type": "code",
   "execution_count": 3,
   "metadata": {},
   "outputs": [],
   "source": [
    "with zipfile.ZipFile('files.zip', 'w', compression=zipfile.ZIP_DEFLATED) as zip:\n",
    "    zip.write('xxx.txt')\n",
    "    zip.write('yyy.txt')\n",
    "    zip.write('zzz.txt')"
   ]
  },
  {
   "cell_type": "code",
   "execution_count": 4,
   "metadata": {},
   "outputs": [
    {
     "name": "stdout",
     "output_type": "stream",
     "text": [
      "['xxx.txt', 'yyy.txt', 'zzz.txt']\n"
     ]
    }
   ],
   "source": [
    "with zipfile.ZipFile('files.zip') as zip:\n",
    "    print(zip.namelist()) #print contet of zipfile\n",
    "    zip.extractall() #extracts into current working dir\n",
    "    zip.extractall('unpacked') #extracts into a folder\n",
    "    zip.extract('xxx.txt') #extracts only specified file\n"
   ]
  }
 ],
 "metadata": {
  "kernelspec": {
   "display_name": "Python 3",
   "language": "python",
   "name": "python3"
  },
  "language_info": {
   "codemirror_mode": {
    "name": "ipython",
    "version": 3
   },
   "file_extension": ".py",
   "mimetype": "text/x-python",
   "name": "python",
   "nbconvert_exporter": "python",
   "pygments_lexer": "ipython3",
   "version": "3.6.5"
  }
 },
 "nbformat": 4,
 "nbformat_minor": 2
}
